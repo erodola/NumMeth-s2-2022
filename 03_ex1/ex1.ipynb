{
 "cells": [
  {
   "cell_type": "markdown",
   "metadata": {
    "collapsed": true,
    "pycharm": {
     "name": "#%% md\n"
    }
   },
   "source": [
    "# Metodi numerici per l'informatica - Esercitazione 1\n",
    "\n",
    "Benvenuti al corso di *Metodi Numerici dell'Informatica*. L'obiettivo delle esercitazioni è quello di impadronirsi dei concetti spiegati nelle lezioni teoriche da un punto di vista pratico. In particolare, useremo il linguaggio *Python 3.8* e la libreria per il calcolo numerico *NumPy*. Le Esercitazioni sono strutturate come Jupyter notebooks in Colab dove vengono presentati richiami alla teoria, esempi eseguibili ed esercizi guidati. Ricordiamo di eseguire i notebooks in ordine sequenziale. Eseguire il notebook in ordine diverso da quello sequenziale puo' portare a risultati non aspettati dato che usiamo variabili aventi lo stesso nome in celle diverse. **Let's have fun!**\n",
    "\n",
    "Gli argomenti dell'Esercitazione 1 sono i seguenti:\n",
    "\n",
    "1. *Vettori*\n",
    "2. *Matrici*\n",
    "3. *Applicazioni lineari*\n",
    "\n",
    "Prima di iniziare, come primo step, dobbiamo importare le dipendenze necessarie per eseguire il notebook. Tale operazione sarà eseguita all'inizio di tutti i notebooks futuri. Le due librerie che useremo principalmente sono NumPy, per eseguire calcoli numerici e *Matplotlib* per visualizzare i risultati. Inoltre importiamo il modulo locale `utils.py` per caricare alcune funzionionalità aggiuntive."
   ]
  },
  {
   "cell_type": "code",
   "execution_count": 177,
   "outputs": [],
   "source": [
    "import numpy as np\n",
    "import matplotlib.pyplot as plt"
   ],
   "metadata": {
    "collapsed": false,
    "pycharm": {
     "name": "#%%\n"
    }
   }
  },
  {
   "cell_type": "markdown",
   "source": [
    "## 1. Vettori\n",
    "\n",
    "### 1.a Creazione di vettori\n",
    "\n",
    "Il datatype fondamentale che NumPy adopera è il `numpy.ndarray`, chiamato anche semplicemente *array* Numpy. Con questa struttura dati possiamo rappresentare un'ampia classe di oggetti algebrici quali vettori, matrici e tensori multidimensionali. Iniziamo con l'oggetto numerico elementare, ossia il vettore.\n",
    "\n",
    "Un vettore (reale) $n$-dimensionale $\\mathbf{x}$  è una sequenza (finita e ordinata) di $n$ numeri reali $x_i \\in \\mathbb{R}$:\n",
    "$$\\mathbf{x} = (x_1, \\dots, x_n)  \\in \\mathbb{R}^n$$\n",
    "\n",
    "In Python potremmo rappresentare un vettore semplicemente con il datatype `list`:"
   ],
   "metadata": {
    "collapsed": false,
    "pycharm": {
     "name": "#%% md\n"
    }
   }
  },
  {
   "cell_type": "code",
   "execution_count": 178,
   "outputs": [
    {
     "name": "stdout",
     "output_type": "stream",
     "text": [
      "x = [0.0, 3.5, 4.0]\n",
      "type(x) = <class 'list'>\n"
     ]
    }
   ],
   "source": [
    "x = [0., 3.5, 4.]\n",
    "\n",
    "print(f\"{x = }\")\n",
    "print(f\"{type(x) = }\")"
   ],
   "metadata": {
    "collapsed": false,
    "pycharm": {
     "name": "#%%\n"
    }
   }
  },
  {
   "cell_type": "markdown",
   "source": [
    "Il problema di questa rappresentazione e' l'assenza di un numero cospicuo di operazioni che possono essere effettuate con i vettori numerici. Per esempio se proviamo a creare un un'altro vettore $\\mathbf{y}$ come lista di numeri e applichiamo l'operatore `+` di Python, otteniamo la concatenazione delle liste invece del vettore $(-1, 3.5, 6)$:"
   ],
   "metadata": {
    "collapsed": false,
    "pycharm": {
     "name": "#%% md\n"
    }
   }
  },
  {
   "cell_type": "code",
   "execution_count": 179,
   "outputs": [
    {
     "name": "stdout",
     "output_type": "stream",
     "text": [
      "x + y = [0.0, 3.5, 4.0, -2.0, 0.0, 2.0]\n"
     ]
    }
   ],
   "source": [
    "y = [-2., 0., 2.]\n",
    "print(f\"{x + y = }\")"
   ],
   "metadata": {
    "collapsed": false,
    "pycharm": {
     "name": "#%%\n"
    }
   }
  },
  {
   "cell_type": "markdown",
   "source": [
    "Per creare un vettore numerico quindi usiamo Numpy (il modulo Numpy e' importato come `np`, prasse comune nell'utilizzo della libreria), passando la lista alla funzione `array`:"
   ],
   "metadata": {
    "collapsed": false,
    "pycharm": {
     "name": "#%% md\n"
    }
   }
  },
  {
   "cell_type": "code",
   "execution_count": 180,
   "outputs": [
    {
     "name": "stdout",
     "output_type": "stream",
     "text": [
      "x = array([0. , 3.5, 4. ])\n",
      "type(x) = <class 'numpy.ndarray'>\n"
     ]
    }
   ],
   "source": [
    "x = np.array([0., 3.5, 4.])  # 0. e 4. sono di tipo float64, dato che viene aggiunto un punto alla fine\n",
    "\n",
    "print(f\"{x = }\")\n",
    "print(f\"{type(x) = }\")"
   ],
   "metadata": {
    "collapsed": false,
    "pycharm": {
     "name": "#%%\n"
    }
   }
  },
  {
   "cell_type": "markdown",
   "source": [
    "Per conoscere a posteriori il numero di elementi contenuti nel vettore possiamo usare l'attributo `shape`, il quale e' un dato `tuple`. In seguito (quando parleremo di matrici) vedremo più in dettaglio il significato di questo attributo. Per adesso, la dimensione del vettore e' data dall'unico elemento contenuto nella tupla, ossia `shape[0]`:"
   ],
   "metadata": {
    "collapsed": false,
    "pycharm": {
     "name": "#%% md\n"
    }
   }
  },
  {
   "cell_type": "code",
   "execution_count": 234,
   "outputs": [
    {
     "name": "stdout",
     "output_type": "stream",
     "text": [
      "x.shape = (14,)\n",
      "x.shape[0] = 14\n"
     ]
    }
   ],
   "source": [
    "print(f\"{x.shape = }\")\n",
    "print(f\"{x.shape[0] = }\")"
   ],
   "metadata": {
    "collapsed": false,
    "pycharm": {
     "name": "#%%\n"
    }
   }
  },
  {
   "cell_type": "markdown",
   "source": [
    "Tipicamente adoperiamo vettori reali però può risultare opportuno usare vettori le cui componenti sono numeri interi, per creare un vettore di interi, la lista passata ad `array` deve contenere solo componenti `int64` (o varianti come `long`). Il vettore $\\mathbf{x}$ definito sopra contiene entrate reali (tipo `float64`). Per conoscere il datatype delle componenti di un array Numpy, si puo' accedere all'attributo `dtype` dell'oggetto."
   ],
   "metadata": {
    "collapsed": false,
    "pycharm": {
     "name": "#%% md\n"
    }
   }
  },
  {
   "cell_type": "code",
   "execution_count": 182,
   "outputs": [
    {
     "name": "stdout",
     "output_type": "stream",
     "text": [
      "x_int = array([1, 2, 3])\n",
      "x_int.dtype = dtype('int64')\n",
      "x.dtype = dtype('float64')\n"
     ]
    }
   ],
   "source": [
    "x_int = np.array([1, 2, 3])\n",
    "\n",
    "print(f\"{x_int = }\")\n",
    "print(f\"{x_int.dtype = }\")\n",
    "print(f\"{x.dtype = }\")"
   ],
   "metadata": {
    "collapsed": false,
    "pycharm": {
     "name": "#%%\n"
    }
   }
  },
  {
   "cell_type": "markdown",
   "source": [
    "Se alcune entrate del vettore sono reali ed altre intere, Numpy converte automaticamente le entrate intere in entrate reali e otteniamo un vettore reale:"
   ],
   "metadata": {
    "collapsed": false,
    "pycharm": {
     "name": "#%% md\n"
    }
   }
  },
  {
   "cell_type": "code",
   "execution_count": 183,
   "outputs": [
    {
     "name": "stdout",
     "output_type": "stream",
     "text": [
      "x = array([0., 3., 4.])\n"
     ]
    }
   ],
   "source": [
    "x = np.array([0, 3, 4.]) # notare che 4. è float64\n",
    "print(f\"{x = }\")"
   ],
   "metadata": {
    "collapsed": false,
    "pycharm": {
     "name": "#%%\n"
    }
   }
  },
  {
   "cell_type": "markdown",
   "source": [
    "Esistono altri metodi per creare vettori. Tre casi importanti sono i seguenti:\n",
    "\n",
    "1. il vettore nullo $\\mathbf{0}$, `np.zeros`\n",
    "2. il vettore $\\mathbf{1}$ contenente 1 su ogni entrata, `np.ones`\n",
    "3. vettori randomm, le cui componenti sono (pseudo-)casuali essendo campionate da una distribuzione di probabilità; per campionare dalla distribuzione uniforme in $[0, 1)$ si usa `np.random.rand`\n",
    "\n",
    "Per crearli bisogna specificare solamente la dimensione del vettore:"
   ],
   "metadata": {
    "collapsed": false,
    "pycharm": {
     "name": "#%% md\n"
    }
   }
  },
  {
   "cell_type": "code",
   "execution_count": 184,
   "outputs": [
    {
     "name": "stdout",
     "output_type": "stream",
     "text": [
      "x_0 = array([0., 0., 0.])\n",
      "x_1 = array([1., 1., 1.])\n",
      "x_rand = array([0.36995546, 0.39806687, 0.43700325])\n"
     ]
    }
   ],
   "source": [
    "d = 3\n",
    "\n",
    "x_0 = np.zeros(d)\n",
    "x_1 = np.ones(d)\n",
    "x_rand = np.random.rand(d)\n",
    "\n",
    "print(f\"{x_0 = }\")\n",
    "print(f\"{x_1 = }\")\n",
    "print(f\"{x_rand = }\")"
   ],
   "metadata": {
    "collapsed": false,
    "pycharm": {
     "name": "#%%\n"
    }
   }
  },
  {
   "cell_type": "markdown",
   "source": [
    "Per indicizzare la componente $i$-esima di un vettore si usa la sintassi delle parentesi quadrate (come con le liste Python). Lo stesso vale per lo slicing di sottovettori:"
   ],
   "metadata": {
    "collapsed": false,
    "pycharm": {
     "name": "#%% md\n"
    }
   }
  },
  {
   "cell_type": "code",
   "execution_count": 212,
   "outputs": [
    {
     "name": "stdout",
     "output_type": "stream",
     "text": [
      "x = array([ 3.,  2.,  1.,  0., -1., -2.])\n",
      "x[0] = 3.0\n",
      "x[1] = 2.0\n",
      "x[2] = 1.0\n",
      "x[2:] = array([ 1.,  0., -1., -2.])\n",
      "x[:4] = array([3., 2., 1., 0.])\n",
      "x[2:4] = array([1., 0.])\n"
     ]
    }
   ],
   "source": [
    "x = np.array([3., 2., 1., 0., -1., -2.])\n",
    "print(f\"{x = }\")\n",
    "\n",
    "for i in range(3):\n",
    "    print(f\"x[{i}] = {x[i]}\")\n",
    "\n",
    "print(f\"{x[2:] = }\")\n",
    "print(f\"{x[:4] = }\")\n",
    "print(f\"{x[2:4] = }\")"
   ],
   "metadata": {
    "collapsed": false,
    "pycharm": {
     "name": "#%%\n"
    }
   }
  },
  {
   "cell_type": "markdown",
   "source": [
    "##### Esercizi\n",
    "\n",
    "1. Crea il vettore $\\mathbf{x} = (1, \\dots, 100) \\in \\mathbb{R}^{100}$\n",
    "2. Crea un vettore di dimensione 10 campionato dalla distribuzione *gaussiana unitaria* (detta anche *normale* o *standard*). (hint: usare la documentazione di Numpy)"
   ],
   "metadata": {
    "collapsed": false,
    "pycharm": {
     "name": "#%% md\n"
    }
   }
  },
  {
   "cell_type": "code",
   "execution_count": 187,
   "outputs": [],
   "source": [
    "# spazio lasciato per gli esercizi"
   ],
   "metadata": {
    "collapsed": false,
    "pycharm": {
     "name": "#%%\n"
    }
   }
  },
  {
   "cell_type": "markdown",
   "source": [
    "### 1.b Visualizzare vettori\n",
    "\n",
    "L'utilita' dei vettori sta nel poter modellare diversi tipi di dato utili nelle applicazioni. Classicamente i vettori furono introdotti per rapresentare quantità geometriche tipiche della fisica (si pensi al concetto di forza in meccanica classica o in elettrodinamica), ma essi possono esprimere entità molto diverse tra di loro spaziando dalle onde sonore al calore presente su un corpo. Per rendere più chiara questa idea visualizziamo alcuni esempi interessanti.\n",
    "\n",
    "Iniziamo con la visualizzazione classica di un vettore come un segmento orientato nel piano / spazio. Nel caso di uno spazio vettoriale tutti i vettori sono centrati nell'origine. Per visualizzare una freccia in 2D si può usare la funzione `arrow` di Matplotlib"
   ],
   "metadata": {
    "collapsed": false,
    "pycharm": {
     "name": "#%% md\n"
    }
   }
  },
  {
   "cell_type": "code",
   "execution_count": 268,
   "outputs": [],
   "source": [
    "def vis_1vector_2d(x, xlim=1.2, ylim=1.2, head_width=0.04, head_length=0.1):\n",
    "    # crea la figura (una figure puo contenere diversi assi cartesiani come subplot) con la dimensione in inch specificata in `figsize`\n",
    "    fig = plt.figure(figsize=(8, 6))\n",
    "    # aggiungiamo un'asse cartesiano alla figura\n",
    "    ax = fig.add_subplot()\n",
    "    # imposta il titolo\n",
    "    ax.set_title(\"Un vettore 2D\")\n",
    "    # disegna la freccia;\n",
    "    # i primi due argomenti sono il punto (C_x, C_y) dove viene posizionata la coda della vettore\n",
    "    # il terzo e il quarto argomento sono l'offset (δx, δy) relativo a (C_x, C_y), quindi la testa del vettore si troverà sul punto (C_x+δx, C_y+δy)\n",
    "    # gli argomenti `fc` ed `ec` specificano il colore interno e del bordo del vettore, rispettivamente ('k' sta per black)\n",
    "    # `head_width` e `head_length` indicano le dimensioni della punta (di default sono impostati a 0 quindi sembra disegnare un segmento invece di un vettore\n",
    "    ax.arrow(0, 0, x[0], x[1],\n",
    "              fc='k', ec='k', head_width=head_width, head_length=head_length)\n",
    "    # imposta l'intervallo delle x e y visualizzabili\n",
    "    ax.set_xlim([-xlim, xlim])\n",
    "    ax.set_ylim([-ylim, ylim])\n",
    "    # abilita la visualizzazione di una griglia in sottofondo\n",
    "    ax.grid()"
   ],
   "metadata": {
    "collapsed": false,
    "pycharm": {
     "name": "#%%\n"
    }
   }
  },
  {
   "cell_type": "code",
   "execution_count": 189,
   "outputs": [
    {
     "name": "stdout",
     "output_type": "stream",
     "text": [
      "x_2d = array([0.76770795, 0.05181471])\n"
     ]
    }
   ],
   "source": [
    "x_2d = np.random.rand(2)\n",
    "\n",
    "print(f\"{x_2d = }\")"
   ],
   "metadata": {
    "collapsed": false,
    "pycharm": {
     "name": "#%%\n"
    }
   }
  },
  {
   "cell_type": "code",
   "execution_count": 190,
   "outputs": [
    {
     "data": {
      "text/plain": "<Figure size 576x432 with 1 Axes>",
      "image/png": "[encoded data removed]"
     },
     "metadata": {
      "needs_background": "light"
     },
     "output_type": "display_data"
    }
   ],
   "source": [
    "vis_1vector_2d(x_2d)"
   ],
   "metadata": {
    "collapsed": false,
    "pycharm": {
     "name": "#%%\n"
    }
   }
  },
  {
   "cell_type": "markdown",
   "source": [
    "Per abilitare il rendering dei grafici 3D, è richiesto eseguire il seguente import (`mpl_toolkits` è un'estensione di Numpy):"
   ],
   "metadata": {
    "collapsed": false,
    "pycharm": {
     "name": "#%% md\n"
    }
   }
  },
  {
   "cell_type": "code",
   "execution_count": 191,
   "outputs": [],
   "source": [
    "from mpl_toolkits import mplot3d"
   ],
   "metadata": {
    "collapsed": false,
    "pycharm": {
     "name": "#%%\n"
    }
   }
  },
  {
   "cell_type": "markdown",
   "source": [
    "Di default in Matplotlib non si può visualizzare una freccia 3D come nel caso 2D. A tal fine abbiamo definito la classe `Arrow3D` nel file `utils.py`, che qui importiamo:"
   ],
   "metadata": {
    "collapsed": false,
    "pycharm": {
     "name": "#%% md\n"
    }
   }
  },
  {
   "cell_type": "code",
   "execution_count": 261,
   "outputs": [],
   "source": [
    "from utils import Arrow3D\n",
    "\n",
    "def vis_1vector_3d(x, xlim=1.2, ylim=1.2, zlim=1.2):\n",
    "    # crea la figura\n",
    "    fig = plt.figure(figsize=(10, 8))\n",
    "    # aggiunge un'asse; notare l'argomento aggiuntivo projection='3d', necessario per creare un asse 3D\n",
    "    ax = fig.add_subplot(projection='3d')\n",
    "    # imposta il titolo\n",
    "    ax.set_title(\"Un vettore 3D\")\n",
    "    # definisce un dizionario di parametri usati per definire lo stile di Arrow3D;\n",
    "    # mutation_scale definisce la dimensione della punta, arrowstyle lo stile della punta,\n",
    "    # color il colore della freccia come nel caso 2D\n",
    "    arrow_prop_dict = dict(mutation_scale=20, arrowstyle='-|>', color='k')\n",
    "    # crea la freccia (le tre liste definiscono i valori [C_x, δx], [C_y, δy], [C_z, δz] come nell'esempio 2D)\n",
    "    a = Arrow3D([0, x[0]], [0, x[1]], [0, x[2]], **arrow_prop_dict)\n",
    "    # aggiunge la freccia all'asse\n",
    "    ax.add_artist(a)\n",
    "    # imposta i limiti del plot come nell'esempio 2D\n",
    "    ax.set_xlim([-xlim, xlim])\n",
    "    ax.set_ylim([-ylim, ylim])\n",
    "    ax.set_zlim([-zlim, zlim])"
   ],
   "metadata": {
    "collapsed": false,
    "pycharm": {
     "name": "#%%\n"
    }
   }
  },
  {
   "cell_type": "code",
   "execution_count": 262,
   "outputs": [
    {
     "name": "stdout",
     "output_type": "stream",
     "text": [
      "x_3d = array([0.98497751, 0.16745565, 0.5989359 ])\n"
     ]
    }
   ],
   "source": [
    "x_3d = np.random.rand(3)\n",
    "\n",
    "print(f\"{x_3d = }\")"
   ],
   "metadata": {
    "collapsed": false,
    "pycharm": {
     "name": "#%%\n"
    }
   }
  },
  {
   "cell_type": "code",
   "execution_count": 263,
   "outputs": [
    {
     "data": {
      "text/plain": "<Figure size 720x576 with 1 Axes>",
      "image/png": "[encoded data removed]"
     },
     "metadata": {
      "needs_background": "light"
     },
     "output_type": "display_data"
    }
   ],
   "source": [
    "vis_1vector_3d(x_3d)"
   ],
   "metadata": {
    "collapsed": false,
    "pycharm": {
     "name": "#%%\n"
    }
   }
  },
  {
   "cell_type": "markdown",
   "source": [
    "Quando il numero di componenti di un vettore $\\mathbf{x} = (x_0, \\dots, x_n)$ è maggiore di 3 possiamo trattare il vettore come una sequenza, ossia come un'applicazione $$s: [n] \\to \\mathbb{R},$$ dove $[n] = \\{1, \\dots, n\\}$ è l'insieme dei numeri naturali da $1$ a $n$, ponendo $s(i) = x_i, \\forall i \\in [n]$. Come esempio possiamo visualizzare l'andamento del valore di Bitcoin nell'ultima settimana. Carichiamo il file `bitcoin.txt` dal disco:"
   ],
   "metadata": {
    "collapsed": false,
    "pycharm": {
     "name": "#%% md\n"
    }
   }
  },
  {
   "cell_type": "code",
   "execution_count": 246,
   "outputs": [
    {
     "name": "stdout",
     "output_type": "stream",
     "text": [
      "bitcoin = array([33723.0289781 , 34662.43589358, 31637.78005541, 32186.27767093,\n",
      "       34649.64458753, 34434.33531428, 35867.77773549, 35040.83724889,\n",
      "       33572.11765253, 33897.04858963, 34668.54840182, 35287.77976616,\n",
      "       33746.00245614, 34235.19345116])\n"
     ]
    }
   ],
   "source": [
    "# apertura del file\n",
    "f_bitcoin = open('bitcoin.txt')\n",
    "# comprensione di liste per scorrere le righe del file (ogni riga e' un valore numerico) e convertire da `str` a `float`\n",
    "data_bitcoin = [float(line) for line in f_bitcoin]\n",
    "# abbiamo effetuato lo slicing degli ultimi 14 valori nella lista, corrispondenti alle ultime 2 settimane\n",
    "bitcoin = np.array(data_bitcoin)[-14:]\n",
    "\n",
    "print(f\"{bitcoin = }\")"
   ],
   "metadata": {
    "collapsed": false,
    "pycharm": {
     "name": "#%%\n"
    }
   }
  },
  {
   "cell_type": "markdown",
   "source": [
    "Per visualizzare una sequenza possiamo usare la funzione `plot` di Matplotlib. Il primo argomento e' un vettore contenente $[n]$ mentre il secondo contiene i valori di `bitcoin`."
   ],
   "metadata": {
    "collapsed": false,
    "pycharm": {
     "name": "#%% md\n"
    }
   }
  },
  {
   "cell_type": "code",
   "execution_count": 258,
   "outputs": [
    {
     "data": {
      "text/plain": "<Figure size 576x432 with 1 Axes>",
      "image/png": "[encoded data removed]"
     },
     "metadata": {
      "needs_background": "light"
     },
     "output_type": "display_data"
    }
   ],
   "source": [
    "x = np.arange(1, 14 + 1) # np.arange(1, 14+1) e' equivalente a np.array(range(1,14+1)); ricordiamo che l'estremo destro del range e' escluso\n",
    "y = bitcoin\n",
    "\n",
    "fig = plt.figure(figsize=(8, 6))\n",
    "ax = fig.add_subplot()\n",
    "# imposta la label dell'asse x\n",
    "ax.set_xlabel('Giorno')\n",
    "# imposta la label dell'asse y\n",
    "ax.set_ylabel('BTC / EUR')\n",
    "ax.plot(x, y, '*-')\n",
    "plt.show()"
   ],
   "metadata": {
    "collapsed": false,
    "pycharm": {
     "name": "#%%\n"
    }
   }
  },
  {
   "cell_type": "markdown",
   "source": [
    "Vediamo cosa succede quando osserviamo l'andamento dal giorno il `2013-04-29`. Per effettuare il plot bisogna conoscere il numero di elementi nel vettore, quindi lo scopriamo usando `shape`:"
   ],
   "metadata": {
    "collapsed": false,
    "pycharm": {
     "name": "#%% md\n"
    }
   }
  },
  {
   "cell_type": "code",
   "execution_count": 265,
   "outputs": [
    {
     "data": {
      "text/plain": "<Figure size 576x432 with 1 Axes>",
      "image/png": "[encoded data removed]"
     },
     "metadata": {
      "needs_background": "light"
     },
     "output_type": "display_data"
    }
   ],
   "source": [
    "bitcoin_total = np.array(data_bitcoin)\n",
    "\n",
    "fig = plt.figure(figsize=(8, 6))\n",
    "ax = fig.add_subplot()\n",
    "# imposta la label dell'asse x\n",
    "ax.set_xlabel('Giorno')\n",
    "# imposta la label dell'asse y\n",
    "ax.set_ylabel('BTC / EUR')\n",
    "ax.plot(np.arange(1, bitcoin_total.shape[0] + 1), bitcoin_total)\n",
    "plt.show()"
   ],
   "metadata": {
    "collapsed": false,
    "pycharm": {
     "name": "#%%\n"
    }
   }
  },
  {
   "cell_type": "markdown",
   "source": [
    "Avendo aggiunto un numero cospicuo di punti osserviamo che la sequenza \"zoomata\" ha l'aspetto di una funzione continua. Come visto nella lezioni teorica, le funzioni continue formano uno spazio vettoriale, quindi le funzioni sono a tutti gli effetti dei vettori."
   ],
   "metadata": {
    "collapsed": false,
    "pycharm": {
     "name": "#%% md\n"
    }
   }
  },
  {
   "cell_type": "markdown",
   "source": [
    "### 1.b Operazioni su vettori"
   ],
   "metadata": {
    "collapsed": false,
    "pycharm": {
     "name": "#%% md\n"
    }
   }
  },
  {
   "cell_type": "code",
   "execution_count": null,
   "outputs": [],
   "source": [],
   "metadata": {
    "collapsed": false,
    "pycharm": {
     "name": "#%%\n"
    }
   }
  },
  {
   "cell_type": "markdown",
   "source": [
    "##### Esercizi\n",
    "\n",
    "1. Inverti il verso di rotazione dell'orologio.\n",
    "2. Consideriamo $\\mathbb{R}^n[x]$, lo spazio vettoriale dei polinomi di grado al più $n$. Qualsiasi polinomio $$p(x) = a_n x^n + \\dots + a_1 x + a_0$$ può essere rappresentato dal vettore dei coefficienti $$\\mathbf{x} = (a_n, \\dots, a_0)$$ (contentente $n+1$ elementi). Disegna il polinomio rappresentato da $\\mathbf{x} = (2., 1., 2.)$. (Hint: definisci il vettore delle $x$, poi applica operazioni su questo vettore per ottenere il vettore delle $y$)"
   ],
   "metadata": {
    "collapsed": false,
    "pycharm": {
     "name": "#%% md\n"
    }
   }
  },
  {
   "cell_type": "code",
   "execution_count": null,
   "outputs": [],
   "source": [
    "# spazio lasciato per gli esercizi"
   ],
   "metadata": {
    "collapsed": false,
    "pycharm": {
     "name": "#%%\n"
    }
   }
  }
 ],
 "metadata": {
  "kernelspec": {
   "display_name": "Python 3",
   "language": "python",
   "name": "python3"
  },
  "language_info": {
   "codemirror_mode": {
    "name": "ipython",
    "version": 2
   },
   "file_extension": ".py",
   "mimetype": "text/x-python",
   "name": "python",
   "nbconvert_exporter": "python",
   "pygments_lexer": "ipython2",
   "version": "2.7.6"
  }
 },
 "nbformat": 4,
 "nbformat_minor": 0
}