{
  "nbformat": 4,
  "nbformat_minor": 0,
  "metadata": {
    "colab": {
      "name": "ex6.ipynb",
      "provenance": [],
      "collapsed_sections": [],
      "authorship_tag": "ABX9TyP4HX3PWRnBzKh7jAxVblKW",
      "include_colab_link": true
    },
    "kernelspec": {
      "name": "python3",
      "display_name": "Python 3"
    },
    "language_info": {
      "name": "python"
    }
  },
  "cells": [
    {
      "cell_type": "markdown",
      "metadata": {
        "id": "view-in-github",
        "colab_type": "text"
      },
      "source": [
        "<a href=\"https://colab.research.google.com/github/erodola/NumMeth-s2-2022/blob/main/esercizi/ex6/ex6.ipynb\" target=\"_parent\"><img src=\"https://colab.research.google.com/assets/colab-badge.svg\" alt=\"Open In Colab\"/></a>"
      ]
    },
    {
      "cell_type": "markdown",
      "source": [
        "Benvenuti alla sesta esercitazione di Metodi Numerici!\n",
        "\n",
        "Oggi esploreremo alcune applicazioni reali della fattorizzazione SVD e della approssimazione low-rank!\n",
        "\n",
        "----\n",
        "Alcuni credits: \n",
        "- Per i francobolli:\n",
        "https://courses.seas.harvard.edu/courses/am205/g_act/svd_slides.pdf\n",
        "- Per procustes:\n",
        "https://simonensemble.github.io/2018-10/orthogonal-procrustes\n",
        "- Per ICP:\n",
        "https://github.com/niosus/notebooks/blob/master/icp.ipynb\n",
        "- Per video-background removal: https://nbviewer.org/github/fastai/numerical-linear-algebra/blob/master/nbs/3.%20Background%20Removal%20with%20Robust%20PCA.ipynb#\n"
      ],
      "metadata": {
        "id": "lNquET8rLWns"
      }
    },
    {
      "cell_type": "code",
      "source": [
        "from PIL import Image\n",
        "from scipy.linalg import svd \n",
        "import numpy as np\n",
        "import matplotlib.pyplot as plt \n",
        "from matplotlib import animation, rc\n",
        "from math import sin, cos, atan2, pi\n",
        "from IPython.display import display, Math, Latex, Markdown, HTML\n",
        "!pip install scikit-video\n",
        "\n",
        "!wget https://anotherimg-dazedgroup.netdna-ssl.com/1028/azure/another-prod/400/0/400686.jpg -O ali.jpg\n",
        "!wget https://raw.githubusercontent.com/erodola/NumMeth-s2-2022/main/esercizi/ex6/111.mp4 -O 111.mp4\n",
        "!wget https://raw.githubusercontent.com/erodola/NumMeth-s2-2022/main/esercizi/ex6/point_cloud.txt -O point_cloud.txt\n",
        "\n",
        "f = \"https://raw.githubusercontent.com/jandrejevic12/svd_files/master/stamps/\"\n",
        "N = 22 # the number of images\n",
        "ims = [0]*N\n",
        "for i in range(N):\n",
        "    name = f + \"im_{:02d}.jpg\".format(i)\n",
        "    !wget $name\n",
        "    print(name)"
      ],
      "metadata": {
        "id": "6LwB0S7KoYhK"
      },
      "execution_count": null,
      "outputs": []
    },
    {
      "cell_type": "markdown",
      "source": [
        "# Image Compression\n",
        "\n",
        "Una prima applicazione di SVD è quella di comprimere i dati, e lo mostreremo su un'immagine. Anche se può sembrare controintuitivo che una matrice possa essere più economicamente salvata con l'uso di tre matrici, mostreremo che la low-rank approximation ci permette di troncare abbastanza valori da risultare conveniente!"
      ],
      "metadata": {
        "id": "z5lzm79boVe1"
      }
    },
    {
      "cell_type": "markdown",
      "source": [
        "Carichiamo l'immagine\n",
        "\n",
        "*Muhammad Ali - Gordon Parks, Miami Beach, Florida, 1970*"
      ],
      "metadata": {
        "id": "x2RQgkFYonya"
      }
    },
    {
      "cell_type": "code",
      "source": [
        "# Apre l'immagine\n",
        "image = Image.open('./ali.jpg')\n",
        "\n",
        "# Normalizziamola tra 0 e 1\n",
        "image = (np.array(image) / np.max(np.array(image)))[:,:,0]\n",
        "plt.imshow(image[:,:],cmap='gray')\n",
        "print(image.shape)"
      ],
      "metadata": {
        "id": "h9_Wlmb5oXAH"
      },
      "execution_count": null,
      "outputs": []
    },
    {
      "cell_type": "markdown",
      "source": [
        "Questa immagine non è altro che una matrice, quindi possiamo trovare la sua approssimazione SVD. Per farlo ci avvaliamo della funzione [scipy.linalg.svd](https://docs.scipy.org/doc/scipy/reference/generated/scipy.linalg.svd.html) che abbiamo già importanto sopra."
      ],
      "metadata": {
        "id": "A4bCdoqjosUi"
      }
    },
    {
      "cell_type": "code",
      "source": [
        "# NOTA: Dalla documentazione ritorna U, s, Vh tale che:\n",
        "# A == U @ S @ Vh, dove S è una matrice di zeri con s sulla diagonale principale\n",
        "# Nota: s è ritornata in ordine decrescente.\n",
        "media = np.mean(image)\n",
        "u, s, vh = svd(image - media, full_matrices=True) # se non lo mettete le matrici\n",
        "                                                  # non avranno le colonne\\righe\n",
        "                                                  # tutte a zero; nel nostro caso\n",
        "                                                  # cambia la dimensione di vh\n",
        "\n",
        "# Costruiamo quindi S, che noi chiameremo Sigma\n",
        "m = image.shape[0]; n = image.shape[1];\n",
        "sigma = np.zeros((m, n))\n",
        "for i in range(min(m, n)):\n",
        "    sigma[i, i] = s[i]\n",
        "\n",
        "# Controlliamo le dimensioni; notate che \n",
        "# Image = (700 x 1028)\n",
        "# Quindi  U @ S @ Vh deve essere coerente con questo\n",
        "\n",
        "print(u.shape)\n",
        "print(sigma.shape)\n",
        "print(vh.shape)"
      ],
      "metadata": {
        "id": "HaBsjSWoofF4"
      },
      "execution_count": null,
      "outputs": []
    },
    {
      "cell_type": "markdown",
      "source": [
        "ESERCIZIO 1: per fare la low-rank approximation possiamo usare la decomposizione fornita dalla SVD e considerare solo i primi k-valori. \n",
        "\n",
        "In questo caso quallo che dovrete fare è utilizzare solo il 5% dei valori della fattorizzazione SVD per ricostruire l'immagine."
      ],
      "metadata": {
        "id": "WYXy7BU1ou6s"
      }
    },
    {
      "cell_type": "code",
      "source": [
        "# Percentuale di coefficienti da utilizzare\n",
        "perc = 5\n",
        "\n",
        "# Seleziono quindi i primi k valori\n",
        "k = ...\n",
        "\n",
        "# Low-rank approximation\n",
        "sigma_masked = sigma.copy()\n",
        "sigma_masked[...] = 0\n",
        "\n",
        "low_rank = ...\n",
        "plt.imshow(low_rank,cmap='gray')"
      ],
      "metadata": {
        "id": "v2DQV8GZojah"
      },
      "execution_count": null,
      "outputs": []
    },
    {
      "cell_type": "markdown",
      "source": [
        "Esercizio 2: Mostrare con un plot quanto cambiano, al variare di K:\n",
        "\n",
        "1) L'errore di ricostruzione\n",
        "\n",
        "2) Il costo di memoria"
      ],
      "metadata": {
        "id": "gxzLsDM5pd8f"
      }
    },
    {
      "cell_type": "code",
      "source": [
        "from progressbar import progressbar\n",
        "\n",
        "# Lista degli errori al variare di K\n",
        "error = []\n",
        "\n",
        "# Lista della quantità di memoria necessaria al variare di K\n",
        "dim = []\n",
        "\n",
        "for k in progressbar(np.arange(0,sigma.shape[0])):\n",
        "  # Errore = | Immagine - Ricostruzione |_'fro'\n",
        "  error.append(...)\n",
        "\n",
        "  # Dim = quantità di numeri per rappresentare l'immagine\n",
        "  dim.append(...)\n",
        "  \n",
        "# Ci serviranno due assi, visto che errore e memoria stanno su due scale diverse\n",
        "fig, ax1 = plt.subplots()\n",
        "ax1.plot(error)\n",
        "\n",
        "ax2 = ax1.twinx() \n",
        "ax2.plot(dim,color='r')\n",
        "\n",
        "# Traccio una linea tratteggiata per segnare il costo in memoria dell'immagine \n",
        "# iniziale.\n",
        "dim_image = image.shape[0] * image.shape[1]\n",
        "ax2.plot([0, len(s)],[dim_image, dim_image],'g--')"
      ],
      "metadata": {
        "id": "TYl87WeSpVsz"
      },
      "execution_count": null,
      "outputs": []
    },
    {
      "cell_type": "markdown",
      "source": [
        "# Denoising\n",
        "\n",
        "La low-rank approximation può anche essere utilizzata per rimuovere il rumore da una collezione di dati. \n",
        "\n",
        "Consideriamo molte immagini simili (ad esempio dei francobolli), su cui possono comparire elementi di rumore (come graffi, timbri, pieghe). Questi ultimi saranno utili per ricostruire solo alcuni francobolli, ma sarà importante catturare gli attributi che più caratterizzano la maggior parte dei francobolli.\n",
        "\n",
        "Con questa idea, organizzando i nostri dati in una matrice (ad esempio, salvando i francobolli in vettori e concatenandoli in una matrice) possiamo utilizzare la low-rank approximation della SVD per escludere le feature sporadiche e poco utili a rappresentare la popolazione."
      ],
      "metadata": {
        "id": "vnuB8c89qryE"
      }
    },
    {
      "cell_type": "markdown",
      "source": [
        "Carichiamo i francobolli"
      ],
      "metadata": {
        "id": "Kflu3Iklr68O"
      }
    },
    {
      "cell_type": "code",
      "source": [
        "def load_data():\n",
        "    print(\"loading data ...\")\n",
        "    N = 22 # the number of images\n",
        "    ims = [0]*N\n",
        "    for i in range(N):\n",
        "        name = \"im_{:02d}.jpg\".format(i)\n",
        "        ims[i] = np.array(Image.open(name))\n",
        "    \n",
        "    ims = np.array(ims).astype(np.float)/255. \n",
        "    print(\"load complete!\")\n",
        "    return ims\n",
        "\n",
        "francobolli = load_data()\n",
        "N, m, n, p = francobolli.shape"
      ],
      "metadata": {
        "id": "mynEQ1TKq1Uz"
      },
      "execution_count": null,
      "outputs": []
    },
    {
      "cell_type": "markdown",
      "source": [
        "Visualizziamo i nostri dati"
      ],
      "metadata": {
        "id": "bwoPC9CQwbVo"
      }
    },
    {
      "cell_type": "code",
      "execution_count": null,
      "metadata": {
        "id": "u01jdoVkgrDB"
      },
      "outputs": [],
      "source": [
        "# Visualize the data in a grid:\n",
        "def plot_data(data):\n",
        "    m = 2\n",
        "    n = len(data)//m\n",
        "    fig, axes = plt.subplots(m, n, figsize=(2*n,2*m))\n",
        "    for i,ax in enumerate(axes.flat):\n",
        "        ax.imshow(data[i])\n",
        "        ax.axis('off')\n",
        "    plt.show()\n",
        "\n",
        "print(francobolli.shape)\n",
        "plot_data(francobolli)"
      ]
    },
    {
      "cell_type": "markdown",
      "source": [
        "Notiamo che i francobolli hanno i segni dei timbri postali, ma l'immagine sottostante è molto simile tra tutte. \n",
        "\n",
        "La dimensione del dataset è una matrice (22, 170, 139, 3):\n",
        "- 22  -> numero di francobolli (N)\n",
        "- 170 -> altezza di un francobollo (m)\n",
        "- 139 -> larghezza di un francobollo (n)\n",
        "- 3   -> numero di canali RGB (p)"
      ],
      "metadata": {
        "id": "G1s82-iMYhq6"
      }
    },
    {
      "cell_type": "markdown",
      "source": [
        "Esercizio 3:\n",
        "- Per prima cosa portiamo la matrice del dataset nella forma N x (m * n * p); ovvero ogni francobollo diventerà una riga, e avremo N righe (cioè tante quanti i francobolli). Ogni riga avrà le feature di quel francobollo\n",
        "- Calcoliamo la media dei francobolli e la sottraiamo a tutti\n",
        "- Facciamo SVD"
      ],
      "metadata": {
        "id": "vT58Cr5DweB-"
      }
    },
    {
      "cell_type": "code",
      "source": [
        "# Reshape dei dati m*n*p x N:\n",
        "S = ... .reshape(...).T\n",
        "\n",
        "# Calcolo della media\n",
        "Sm = ... # Anche se è un vettore, mantenetelo 2-dimensionale\n",
        "\n",
        "# Centriamo la matrice\n",
        "A = ...\n",
        "\n",
        "# Calcoliamo SVD\n",
        "...                                    # Dovremo utilizzare a False perché se no\n",
        "                                       # andremo out of memory\n",
        "\n",
        "print(U.shape)\n",
        "print(s.shape)\n",
        "print(Vt.shape)"
      ],
      "metadata": {
        "id": "Dfen7zh4tPYm"
      },
      "execution_count": null,
      "outputs": []
    },
    {
      "cell_type": "markdown",
      "source": [
        "- Usare low-rank approximation per ricostruire un francobollo e constatare la rimozione del rumore. Visto che le matrici non possono essere tenute in memoria con le dimensioni adatte alle operazioni matriciali, dobbiamo ricotruire in modo esplicito. In particolare:\n",
        "$ A_r = \\sum U_i s_i V^{T}_i$\n",
        "\n",
        "dove $U_i$ è la $i$-esima colonna, e $V^T_i$ è la $i$-esima riga.\n"
      ],
      "metadata": {
        "id": "zKNWqh9cwm_0"
      }
    },
    {
      "cell_type": "code",
      "source": [
        "# Rango della ricostruzione\n",
        "r = 1\n",
        "\n",
        "sigma_masked = sigma.copy()\n",
        "\n",
        "# Ricostruzione\n",
        "Ar = np.zeros(A.shape)\n",
        "...\n",
        "\n",
        "# Aggiungiamo la media\n",
        "Ar += Sm"
      ],
      "metadata": {
        "id": "SR93vkdHtSp3"
      },
      "execution_count": null,
      "outputs": []
    },
    {
      "cell_type": "markdown",
      "source": [
        "Tronchiamo i valori in range validi perché il low-rank non sa che i valori possono stare solo tra 0 e 1"
      ],
      "metadata": {
        "id": "SkQqTeGNwtK9"
      }
    },
    {
      "cell_type": "code",
      "source": [
        "# Indice dell'immagine\n",
        "index = 2\n",
        "\n",
        "# riportiamo il francobollo a una matrice di dimensione m x n x p\n",
        "imr = Ar[:,index].reshape(m,n,p)\n",
        "\n",
        "# Tronchiamo in un range valido\n",
        "imr[imr<0] = 0; imr[imr>1]=1\n",
        "\n",
        "# Mostriamo l'immagine originale e quella compressa\n",
        "fig, (ax1, ax2) = plt.subplots(1,2, figsize=(7,4))\n",
        "ax1.imshow(francobolli[index])\n",
        "ax1.set_title(\"original\", size=16)\n",
        "ax1.axis(\"off\")\n",
        "\n",
        "ax2.imshow(imr)\n",
        "ax2.set_title(\"$r={:d}$\".format(r), size=16)\n",
        "ax2.axis(\"off\")\n",
        "plt.show()"
      ],
      "metadata": {
        "id": "Mqu84i0xtVdO"
      },
      "execution_count": null,
      "outputs": []
    },
    {
      "cell_type": "markdown",
      "source": [
        "Ora andiamo a disporre i nostri dati come le prime due direzioni delle PCA, e vediamo come si comportano. Quali sono semanticamente le caratteristiche che distribuiscono i francobolli lungo le due direzioni?"
      ],
      "metadata": {
        "id": "DeodFRq4w-tS"
      }
    },
    {
      "cell_type": "code",
      "source": [
        "# Proiettiamo ogni immagine nello spazio delle prime due dimensioni, date da U\n",
        "coords = np.dot(U[:,:2].T,A)\n",
        "\n",
        "# Visualizziamo le coordinate ottenute\n",
        "fig, ax = plt.subplots(1,1,figsize=(10,10))\n",
        "ax.scatter(coords[0], coords[1], color='k', marker='x')\n",
        "# plot each image at its corresponding location\n",
        "for i in range(N):\n",
        "    axin = ax.inset_axes([coords[0,i],coords[1,i],10,10],transform=ax.transData)\n",
        "    axin.imshow(francobolli[i],alpha=0.8)\n",
        "    axin.axis('off')\n",
        "\n",
        "# also plot the mean, which lies at the origin.\n",
        "ax.scatter(0, 0, color='r', marker='x', label='mean image')\n",
        "axin = ax.inset_axes([0,0,10,10],transform=ax.transData)\n",
        "axin.imshow(Sm.reshape(m,n,p), alpha=0.8)\n",
        "axin.axis('off')\n",
        "\n",
        "ax.set_xlabel('first singular vector',size=16)\n",
        "ax.set_ylabel('second singular vector',size=16)\n",
        "ax.set_xlim(-70,70); ax.set_ylim(-40,55)\n",
        "ax.tick_params(labelsize=16)\n",
        "ax.legend(fontsize=16, frameon=False)\n",
        "plt.show()"
      ],
      "metadata": {
        "id": "UNpK7L6XuMIu"
      },
      "execution_count": null,
      "outputs": []
    },
    {
      "cell_type": "markdown",
      "source": [
        "Esercizio: \n",
        "- Possiamo anche esplorare questo spazio e generare nuovi francobolli"
      ],
      "metadata": {
        "id": "JGC3cvPHpOM_"
      }
    },
    {
      "cell_type": "code",
      "source": [
        "# Andiamo nello spazio dei coefficienti per la base data da U\n",
        "coords = ...\n",
        "\n",
        "# Spostiamoci aggiungendo un offset\n",
        "new_coords = ...\n",
        "\n",
        "# Torniamo nello spazio dei francobolli ricostruendo\n",
        "recon = ...\n",
        "\n",
        "imr = recon.reshape(m,n,p)\n",
        "imr[imr<0] = 0; imr[imr>1]=1\n",
        "\n",
        "plt.imshow(imr)"
      ],
      "metadata": {
        "id": "LNIKZTNKmD9G"
      },
      "execution_count": null,
      "outputs": []
    },
    {
      "cell_type": "markdown",
      "source": [
        "# Procrustian problem\n",
        "Un'altra applicazione interessante è quella di allineare dei dati. \n",
        "\n",
        "Considerate ad esempio di fare diverse foto aeree di una città e di annotare sulla foto alcuni punti che sapete essere di vostro interesse. Ora volete provare ad allineare queste foto usando i punti salienti che avete segnato, e potete ragionevolemente assumere che (se le foto sono state fatte alla stessa quota) le due differiranno per una traslazione e una rotazione.\n",
        "\n",
        "Questo tipo di problema è chiamato anche Analisi Procrustiana Ortogonale. Vediamo come possiamo risolverla."
      ],
      "metadata": {
        "id": "5brVBVuZxC4z"
      }
    },
    {
      "cell_type": "markdown",
      "source": [
        "In questo esempio abbiamo una point cloud 2D, che ruotiamo e spostiamo."
      ],
      "metadata": {
        "id": "5rkKVrXccMdH"
      }
    },
    {
      "cell_type": "code",
      "source": [
        "# Leggiamo la point cloud\n",
        "A = np.loadtxt('point_cloud.txt')\n",
        "\n",
        "# Spostiamola e visualizziamola\n",
        "A = A.T + [0, -1]\n",
        "plt.scatter(A[:,0],A[:,1],color='b')\n",
        "\n",
        "# Creiamo una matrice di rotazione 2D\n",
        "theta = np.radians(34)\n",
        "c, s = np.cos(theta), np.sin(theta)\n",
        "R = np.array(((c, -s), (s, c)))\n",
        "\n",
        "# Applichiamo la rotazione e spostiamo per generare una nuova point cloud\n",
        "B = A @ R \n",
        "B = B + [0,1]\n",
        "plt.scatter(B[:,0],B[:,1],color='r')\n",
        "plt.axis('equal')"
      ],
      "metadata": {
        "id": "KhcT06xMxLFr"
      },
      "execution_count": null,
      "outputs": []
    },
    {
      "cell_type": "markdown",
      "source": [
        "Non andremo troppo nel dettaglio, ma si può mostrare che la traslazione ottima è quella che allinea i centri delle due point cloud, mentre la rotazione è data da $R=UV^T$ con $U, s, V^T = SVD(B^T A)$, e avremo , e avremo la rotazione ottima per l'allineamento."
      ],
      "metadata": {
        "id": "NetvtgXNquhx"
      }
    },
    {
      "cell_type": "markdown",
      "source": [
        "Esercizio 4:\n",
        "- Centrare A e B\n",
        "- Calcolare la SVD per $B^T A$ centrate\n",
        "- Trovare la rotazione $R$\n",
        "- Applicare $R$ a $B$"
      ],
      "metadata": {
        "id": "WBahi3QPcnQ_"
      }
    },
    {
      "cell_type": "code",
      "source": [
        "# Centrare le due point clouds\n",
        "B_cen = ...\n",
        "A_cen = ...\n",
        "\n",
        "# Calcolare la SVD della matrice di covarianza\n",
        "...\n",
        "\n",
        "# Recuperare la matrice ortogonale ottima (rotazione)\n",
        "R_cand = ...\n",
        "\n",
        "# Applicare la rotazione a B centrata\n",
        "B_align = ...\n",
        "\n",
        "# Visualizzare\n",
        "plt.scatter(B_align[:,0],B_align[:,1],color='r',s=100)\n",
        "plt.scatter(A_cen[:,0],A_cen[:,1])"
      ],
      "metadata": {
        "id": "XzOx8x_jcDI-"
      },
      "execution_count": null,
      "outputs": []
    },
    {
      "cell_type": "markdown",
      "source": [
        "# ICP\n",
        "Nel problema appena visto però si assume di conoscere una corrispondenza iniziale: cioè sappiamo esattamente per ogni punto di una delle due point cloud dove questo dovrà andare nell'altra. Questo ci permette di calcolare la rotazione in forma chiusa. Ma se così non fosse? Se addirittura le due point cloud avessero un numero diverso di punti?\n",
        "\n",
        "Ecco quindi che un famoso algoritmo iterativo che si basa sullo stesso principio è l'Iterative Closest Point (ICP). L'idea è molto semplice e questo è lo pseudo-codice:\n",
        "\n",
        "1. M <- Point cloud da allineare (Source)\n",
        "2. N <- Point cloud a cui vogliamo arrivare (Target)\n",
        "3. For i in np.arange(0,#num_iterazioni):\n",
        "4.   Per ogni punto di M trova il più vicino punto di N, e salvalo in una matrice di permutazione $\\Pi$\n",
        "5.   Risolviamo il problema procrustiano per rotazione e traslazione tra $M$ e $\\Pi N$\n",
        "6.   Se le point cloud sono già abbastanza vicine possiamo interrompere l'algoritmo "
      ],
      "metadata": {
        "id": "wTIwuEm18ZMq"
      }
    },
    {
      "cell_type": "markdown",
      "source": [
        "Vediamo un esempio tra due point cloud prese da delle curve"
      ],
      "metadata": {
        "id": "jU9JriOAgc1f"
      }
    },
    {
      "cell_type": "code",
      "source": [
        "def plot_data(data_1, data_2, label_1, label_2, markersize_1=8, markersize_2=8):\n",
        "    fig = plt.figure(figsize=(10, 6))\n",
        "    ax = fig.add_subplot(111)\n",
        "    ax.axis('equal')\n",
        "    if data_1 is not None:\n",
        "        x_p, y_p = data_1.T\n",
        "        ax.plot(x_p, y_p, color='#336699', markersize=markersize_1, marker='o', linestyle=\":\", label=label_1)\n",
        "    if data_2 is not None:\n",
        "        x_q, y_q = data_2.T\n",
        "        ax.plot(x_q, y_q, color='orangered', markersize=markersize_2, marker='o', linestyle=\":\", label=label_2)\n",
        "    ax.legend()\n",
        "    return ax\n",
        "\n",
        "angle = np.pi/2\n",
        "R_true = np.array([[np.cos(angle), -np.sin(angle)], \n",
        "                   [np.sin(angle),  np.cos(angle)]])\n",
        "t_true = np.array([[-2], [5]])\n",
        "\n",
        "# Generazione dei dati\n",
        "num_points = 30\n",
        "A = np.zeros((2, num_points))\n",
        "A[0, :] = range(0, num_points)\n",
        "A[1, :] = 0.2 * A[0, :] * np.sin(0.5 * A[0, :]) \n",
        "# Move the data\n",
        "\n",
        "num_points = 31\n",
        "B = np.zeros((2, num_points))\n",
        "B[0, :] = range(0, num_points)\n",
        "B[1, :] = 0.2 * B[0, :] * np.sin(0.5 * B[0, :]) \n",
        "B = R_true.dot(B) + t_true\n",
        "\n",
        "# Assign to variables we use in formulas.\n",
        "Q = A.T\n",
        "P = B.T\n",
        "\n",
        "plot_data(P, Q, \"P: moved data\", \"Q: true data\")\n",
        "plt.show()"
      ],
      "metadata": {
        "id": "tuq7mr9Q28EW"
      },
      "execution_count": null,
      "outputs": []
    },
    {
      "cell_type": "code",
      "source": [
        "def draw_correspondeces(P, Q, correspondences, ax):\n",
        "    label_added = False\n",
        "    for i in np.arange(0,np.max(P.shape)):\n",
        "        x = [P[i, 0], Q[correspondences[i],0]]\n",
        "        y = [P[i, 1], Q[correspondences[i], 1]]\n",
        "        if not label_added:\n",
        "            ax.plot(x, y, color='grey', label='correpondences')\n",
        "            label_added = True\n",
        "        else:\n",
        "            ax.plot(x, y, color='grey')\n",
        "    ax.legend()"
      ],
      "metadata": {
        "id": "1Ifs12dX8eo2"
      },
      "execution_count": null,
      "outputs": []
    },
    {
      "cell_type": "markdown",
      "source": [
        "Esercizio 5: Scrivere una funzione che date le due point cloud $P \\in \\mathbb{R}^{N \\times 3}$ e $Q\\in \\mathbb{R}^{M \\times 3}$ ritorni un vettore $match$ lungo $N$ e che contenga per ogni punto $p_i$ il l'indice $j$ del punto di $Q$ più vicino (quindi $j$ può andare da $1$ a $M$).\n",
        "\n",
        "ESEMPIO: Siano $P=\\begin{bmatrix}0.95 & 0 \\\\ 0.8 & 0 \\\\ 6 & 6 \\end{bmatrix}$ e $Q= \\begin{bmatrix}1 & 0 \\\\ 5 & 5 \\\\ 0 & 1 \\\\ 0.8 & 0 \\end{bmatrix}$,\n",
        "\n",
        "  allora $match = [0, 3, 1]$"
      ],
      "metadata": {
        "id": "_nLnP5mBg2tu"
      }
    },
    {
      "cell_type": "code",
      "source": [
        "from scipy.spatial import ...\n",
        "\n",
        "def get_match(P, Q):    \n",
        "  # Calcola la distanza di ogni punto di una point cloud dall'altro\n",
        "  dm =...\n",
        "\n",
        "  # Salva i valori minimi lungo l'asse 1\n",
        "  match = ...\n",
        "  return match\n",
        "\n",
        "# Ottieni match\n",
        "match = get_match(P,Q)\n",
        "\n",
        "# Visualizziamo\n",
        "ax = plot_data(P, Q,\n",
        "               label_1='P: moved',\n",
        "               label_2='Q: true')\n",
        "draw_correspondeces(P, Q, match, ax)"
      ],
      "metadata": {
        "id": "uePEw-0e8fhk"
      },
      "execution_count": null,
      "outputs": []
    },
    {
      "cell_type": "markdown",
      "source": [
        "ESERCIZIO 6: Implementa ICP\n",
        "- Ottieni la Corrispondenza tra P e Q\n",
        "- Calcola la matrice di covarianza tra P e Q centrati\n",
        "- Ottieni la matrice di rotazione ottima\n",
        "\n",
        " NOTA: Se il determinante viene negativo, allora la matrice include anche una riflessione. In quel caso, il trucco per annulare la riflessione è: `R = U @ mask @ Vt`, dove `mask = np.diag([1, 1, ..., 1, -1])`.\n"
      ],
      "metadata": {
        "id": "KeWfuKu9i7ry"
      }
    },
    {
      "cell_type": "code",
      "source": [
        "# Teniamo traccia dell'errore\n",
        "errors = []\n",
        "# Dell'evoluzione della point cloud\n",
        "Ps = []\n",
        "\n",
        "# Delle corrispondenze\n",
        "corres = []\n",
        "\n",
        "P_new = P\n",
        "\n",
        "# 10 iterazioni dovrebbero essere sufficienti\n",
        "for i in np.arange(0,10):\n",
        "  # Salviamo la point cloud attuale\n",
        "  Ps.append(P_new)\n",
        "\n",
        "  # Otteniamo il match tra la point cloud attuale P_new e Q\n",
        "  match = ...\n",
        "\n",
        "  # Salviamo la corrispondenza\n",
        "  corres.append(match)\n",
        "\n",
        "  # Calcoliamo la matrice tra P_new e Q centrate\n",
        "  C = ...\n",
        "\n",
        "  # Otteniamo la matrice di rotazione ottima\n",
        "  U, s, Vt = ...\n",
        "  R = ...\n",
        "\n",
        "  # Se determinante negativo, usiamo il trucchetto per annullare la riflessione\n",
        "  if np.linalg.det(R) < 0 :\n",
        "    mask = np.diag(np.ones(U.shape[1]-1),1)\n",
        "    mask[1,1] = -1\n",
        "    R = U @ mask @ Vt\n",
        "\n",
        "  # Applichiamo la rotazione e la traslazione ottima\n",
        "  P_new = ...\n",
        "  P_new = P_new - ... + ...\n",
        "\n",
        "  # Salviamo l'errore\n",
        "  errors.append(np.linalg.norm(P_new[0:Q.shape[0],:] - Q))"
      ],
      "metadata": {
        "id": "USaULsGXAd_7"
      },
      "execution_count": null,
      "outputs": []
    },
    {
      "cell_type": "code",
      "source": [
        "ax = plot_data(P_new, Q,\n",
        "               label_1='P: moved',\n",
        "               label_2='Q: true', markersize_1=15)"
      ],
      "metadata": {
        "id": "UeJYr5Wk_GIv"
      },
      "execution_count": null,
      "outputs": []
    },
    {
      "cell_type": "markdown",
      "source": [
        "Qui sotto potrete vedere un'animazione della vostra registrazione!"
      ],
      "metadata": {
        "id": "CDOsuKmRk-Up"
      }
    },
    {
      "cell_type": "code",
      "source": [
        "def plot_values(values, label):\n",
        "    fig = plt.figure(figsize=(10, 4))\n",
        "    ax = fig.add_subplot(111)\n",
        "    ax.plot(values, label=label)\n",
        "    ax.legend()\n",
        "    ax.grid(True)\n",
        "    plt.show()\n",
        "    \n",
        "def animate_results(P_values, Q, corresp_values, xlim, ylim):\n",
        "    \"\"\"A function used to animate the iterative processes we use.\"\"\"\n",
        "    fig = plt.figure(figsize=(10, 6))\n",
        "    anim_ax = fig.add_subplot(111)\n",
        "    anim_ax.set(xlim=xlim, ylim=ylim)\n",
        "    anim_ax.set_aspect('equal')\n",
        "    plt.close()\n",
        "    x_q, y_q = Q.T\n",
        "    # draw initial correspondeces\n",
        "    # Prepare Q data.\n",
        "    Q_line, = anim_ax.plot(x_q, y_q, 'o', color='orangered')\n",
        "    # prepare empty line for moved data\n",
        "    P_line, = anim_ax.plot([], [], 'o', color='#336699')\n",
        "\n",
        "    def animate(i):\n",
        "        P_inc = P_values[i].T\n",
        "        x_p, y_p = P_inc\n",
        "        P_line.set_data(x_p, y_p)\n",
        "        return (P_line,)\n",
        "    \n",
        "    anim = animation.FuncAnimation(fig, animate,\n",
        "                                   frames=len(P_values), \n",
        "                                   interval=500, \n",
        "                                   blit=True)\n",
        "    return HTML(anim.to_jshtml())\n",
        "    \n",
        "animate_results(Ps, Q, corres, xlim=(-20, 50), ylim=(-20, 20))"
      ],
      "metadata": {
        "id": "zGfpnayHDxDj"
      },
      "execution_count": null,
      "outputs": []
    },
    {
      "cell_type": "markdown",
      "source": [
        "# Rimozione di BackGround da video"
      ],
      "metadata": {
        "id": "gU84312elE4D"
      }
    },
    {
      "cell_type": "markdown",
      "source": [
        "Vediamo ora come con SVD possiamo individuare gli oggetti in movimento in un video e rimuovere il background. Come fatto con i francobolli, in questo caso siamo interessati a togliere la parte più simile tra tutti gli elementi che compogono i nostri dati. Nel caso di un video a telecamera fissa, sarà lo sfondo."
      ],
      "metadata": {
        "id": "G0ND0H55lbo3"
      }
    },
    {
      "cell_type": "code",
      "source": [
        "import moviepy.editor as mpe\n",
        "# from IPython.display import display\n",
        "from glob import glob\n",
        "\n",
        "import sys, os\n",
        "import numpy as np\n",
        "import scipy\n",
        "\n",
        "%matplotlib inline\n",
        "import matplotlib.pyplot as plt\n",
        "from PIL import Image\n",
        "\n",
        "!pip install pytube"
      ],
      "metadata": {
        "id": "cM-WWEwYnU0k"
      },
      "execution_count": null,
      "outputs": []
    },
    {
      "cell_type": "code",
      "source": [
        "# from pytube import YouTube\n",
        "# import os\n",
        "\n",
        "# def downloadYouTube(videourl, path):\n",
        "\n",
        "#     yt = YouTube(videourl)\n",
        "#     yt = yt.streams.filter(progressive=True, file_extension='mp4').order_by('resolution').asc().first()\n",
        "#     if not os.path.exists(path):\n",
        "#         os.makedirs(path)\n",
        "#     yt.download(path,filename='video.mp4')\n",
        "# downloadYouTube('https://www.youtube.com/watch?v=Cdld0F31FR4', './content/youtube')\n",
        "\n",
        "# os.rename(\"./content/youtube/video.mp4\",'./110.mp4')"
      ],
      "metadata": {
        "id": "VjTGwqALognb"
      },
      "execution_count": null,
      "outputs": []
    },
    {
      "cell_type": "markdown",
      "source": [
        "Carichiamo un video sintetico; altri video simili a questo possono essere trovati qui:\n",
        "http://backgroundmodelschallenge.eu/"
      ],
      "metadata": {
        "id": "M97VYm10nYay"
      }
    },
    {
      "cell_type": "code",
      "source": [
        "# MAX_ITERS = 10\n",
        "file_path = \"111.mp4\"\n",
        "\n",
        "TOL = 1.0e-8\n",
        "\n",
        "video = mpe.VideoFileClip(file_path)\n",
        "\n",
        "video.subclip(0,1).ipython_display(width=300)\n",
        "video.duration\n",
        "\n",
        "def create_data_matrix_from_video(clip, k=5, scale=50):\n",
        "    frames = []\n",
        "    for i in range(k * int(clip.duration)):\n",
        "      frame = rgb2gray(clip.get_frame(i/float(k))).astype(int)\n",
        "      im = Image.fromarray(np.uint8(frame))\n",
        "      im = im.resize((frame.shape[0]//scale,frame.shape[1]//scale),Image.ANTIALIAS)\n",
        "      frames.append(np.array(im).flatten())\n",
        "    return np.vstack(frames).T, (frame.shape[1]//scale,frame.shape[0]//scale)\n",
        "\n",
        "def rgb2gray(rgb):\n",
        "    return np.dot(rgb[...,:3], [0.299, 0.587, 0.114])\n",
        "def plt_images(M, A, E, index_array, dims, filename=None):\n",
        "    f = plt.figure(figsize=(15, 10))\n",
        "    r = len(index_array)\n",
        "    pics = r * 3\n",
        "    for k, i in enumerate(index_array):\n",
        "        for j, mat in enumerate([M, A, E]):\n",
        "            sp = f.add_subplot(r, 3, 3*k + j + 1)\n",
        "            sp.axis('Off')\n",
        "            pixels = mat[:,i]\n",
        "            if isinstance(pixels, scipy.sparse.csr_matrix):\n",
        "                pixels = pixels.todense()\n",
        "            plt.imshow(np.reshape(pixels, dims), cmap='gray')\n",
        "    return f\n",
        "def plots(ims, dims, figsize=(15,20), rows=1, interp=False, titles=None):\n",
        "    if type(ims[0]) is np.ndarray:\n",
        "        ims = np.array(ims)\n",
        "    f = plt.figure(figsize=figsize)\n",
        "    for i in range(len(ims)):\n",
        "        sp = f.add_subplot(rows, len(ims)//rows, i+1)\n",
        "        sp.axis('Off')\n",
        "        plt.imshow(np.reshape(ims[i], dims), cmap=\"gray\")"
      ],
      "metadata": {
        "id": "G6xDMcV8lJvC"
      },
      "execution_count": null,
      "outputs": []
    },
    {
      "cell_type": "markdown",
      "source": [
        "Visualizziamolo"
      ],
      "metadata": {
        "id": "YjAfpKmaQhfJ"
      }
    },
    {
      "cell_type": "code",
      "source": [
        "from IPython.display import HTML\n",
        "from base64 import b64encode\n",
        "import os\n",
        "\n",
        "# Specifica il nome del video\n",
        "save_path = file_path\n",
        "\n",
        "# Comprimi il video per la visualizzazione\n",
        "compressed_path = \"result_compressed.mp4\"\n",
        "if os.path.exists(f\"{compressed_path}\"):\n",
        "  os.remove(f\"{compressed_path}\")\n",
        "  \n",
        "os.system(f\"ffmpeg -i {save_path} -vcodec libx264 {compressed_path}\")\n",
        "\n",
        "# Mostra il video\n",
        "mp4 = open(compressed_path,'rb').read()\n",
        "data_url = \"data:video/mp4;base64,\" + b64encode(mp4).decode()\n",
        "HTML(\"\"\"\n",
        "<video width=400 controls>\n",
        "      <source src=\"%s\" type=\"video/mp4\">\n",
        "</video>\n",
        "\"\"\" % data_url)"
      ],
      "metadata": {
        "id": "GJA9aJU8muPE"
      },
      "execution_count": null,
      "outputs": []
    },
    {
      "cell_type": "code",
      "source": [
        "scale = 5   # Aggiustiamo la scala dell'immagine per lavorare su dati più piccoli\n",
        "\n",
        "M,dims = create_data_matrix_from_video(video, 15, scale)\n",
        "\n",
        "plt.imshow(np.reshape(M[:,1], dims), cmap='gray');"
      ],
      "metadata": {
        "id": "Ot1FTWnQlSpq"
      },
      "execution_count": null,
      "outputs": []
    },
    {
      "cell_type": "code",
      "source": [
        "# Vediamo come è fatta la matrice del video\n",
        "plt.figure(figsize=(12, 12))\n",
        "plt.imshow(M, cmap='gray')"
      ],
      "metadata": {
        "id": "ojfPwZmGma6Z"
      },
      "execution_count": null,
      "outputs": []
    },
    {
      "cell_type": "markdown",
      "source": [
        "Esercizio 7: \n",
        "- Calcolate il background\n",
        "- Rimuovete il background da tutti i frame"
      ],
      "metadata": {
        "id": "fe2ChI57OUbj"
      }
    },
    {
      "cell_type": "code",
      "source": [
        "# Calcoliamo la SVD\n",
        "...\n",
        "\n",
        "# Otteniamo il background\n",
        "...\n",
        "\n",
        "background = ..."
      ],
      "metadata": {
        "id": "5D9v4qHBmijU"
      },
      "execution_count": null,
      "outputs": []
    },
    {
      "cell_type": "code",
      "source": [
        "# Mostriamo il frame 550\n",
        "frame_num = 200\n",
        "plt.imshow(np.reshape(M[:,frame_num], dims), cmap='gray');"
      ],
      "metadata": {
        "id": "ybjMlirnuzLb"
      },
      "execution_count": null,
      "outputs": []
    },
    {
      "cell_type": "code",
      "source": [
        "# Vediamo qual è la ricostruzione del frame 550\n",
        "plt.imshow(np.reshape(background[:,frame_num], dims), cmap='gray');"
      ],
      "metadata": {
        "id": "jqat2tYVmnND"
      },
      "execution_count": null,
      "outputs": []
    },
    {
      "cell_type": "code",
      "source": [
        "# Rimuoviamo il background\n",
        "plt.imshow(np.reshape(M[:,frame_num] - background[:,frame_num], dims), cmap='gray');"
      ],
      "metadata": {
        "id": "s8zFQSABmn19"
      },
      "execution_count": null,
      "outputs": []
    },
    {
      "cell_type": "markdown",
      "source": [
        "Visualizziamo il video ottenuto con background removal!"
      ],
      "metadata": {
        "id": "rBynvvbwPzPT"
      }
    },
    {
      "cell_type": "code",
      "source": [
        "# Possiamo generare il nuovo video\n",
        "import skvideo.io\n",
        "import numpy as np\n",
        "frames = [np.reshape(M[:,k] - background[:,k], dims) for k in np.arange(0,M.shape[1])]\n",
        "outputdata = np.array(frames)\n",
        "#outputdata = (outputdata - np.min(outputdata))/(np.max(outputdata)- np.min(outputdata))\n",
        "outputdata+=np.min(outputdata)\n",
        "outputdata = outputdata.astype(np.uint8)\n",
        "\n",
        "save_path = \"outputvideo2.mp4\"\n",
        "if os.path.exists(f\"{save_path}\"):\n",
        "  os.remove(f\"{save_path}\")\n",
        "  \n",
        "skvideo.io.vwrite(\"outputvideo2.mp4\", outputdata)\n",
        "\n",
        "# Visualizziamo la ricostruzione\n",
        "from IPython.display import HTML\n",
        "from base64 import b64encode\n",
        "import os\n",
        "\n",
        "# Input video path\n",
        "save_path = \"outputvideo2.mp4\"\n",
        "\n",
        "# Compressed video path\n",
        "compressed_path = \"output_compressed2.mp4\"\n",
        "if os.path.exists(f\"{compressed_path}\"):\n",
        "  os.remove(f\"{compressed_path}\")\n",
        "  \n",
        "os.system(f\"ffmpeg -i {save_path} -vcodec libx264 {compressed_path}\")\n",
        "\n",
        "# Show video\n",
        "mp4 = open(compressed_path,'rb').read()\n",
        "data_url = \"data:video/mp4;base64,\" + b64encode(mp4).decode()\n",
        "HTML(\"\"\"\n",
        "<video width=400 controls>\n",
        "      <source src=\"%s\" type=\"video/mp4\">\n",
        "</video>\n",
        "\"\"\" % data_url)"
      ],
      "metadata": {
        "id": "TDGoB63Bm251"
      },
      "execution_count": null,
      "outputs": []
    }
  ]
}