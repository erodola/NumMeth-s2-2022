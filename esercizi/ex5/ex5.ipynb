{
 "cells": [
  {
   "cell_type": "markdown",
   "metadata": {
    "id": "view-in-github",
    "colab_type": "text",
    "pycharm": {
     "name": "#%% md\n"
    }
   },
   "source": [
    "<a href=\"https://colab.research.google.com/github/erodola/NumMeth-s2-2022/blob/main/esercizi/ex5/ex5.ipynb\" target=\"_parent\"><img src=\"https://colab.research.google.com/assets/colab-badge.svg\" alt=\"Open In Colab\"/></a>"
   ]
  },
  {
   "cell_type": "markdown",
   "source": [
    "Benvenuti alla quinta esercitazione di *Metodi numerici per l'informatica*. In questa lezione tratteremo la *decomposizione spettrale*, ripercorendo gli esempi visti nella lezione teorica nei diversi esercizi. Iniziamo importando le dipendenze necessarie."
   ],
   "metadata": {
    "id": "kW89-GvZUgZD",
    "pycharm": {
     "name": "#%% md\n"
    }
   }
  },
  {
   "cell_type": "code",
   "execution_count": 2,
   "outputs": [],
   "source": [
    "import numpy as np\n",
    "import matplotlib.pyplot as plt\n",
    "import math\n",
    "from keras.datasets import mnist\n",
    "from matplotlib import cm"
   ],
   "metadata": {
    "pycharm": {
     "name": "#%%\n"
    },
    "id": "c9SmA5WKmvV4"
   }
  },
  {
   "cell_type": "markdown",
   "source": [
    "## Esercizio 1 - PCA\n",
    "\n",
    "Nel primo esercizio guidato effettuiamo il calcolo degli assi principali nel caso in cui disponiamo di un insieme di dati $\\{\\mathbf{x}_i\\}_{i=1,\\dots,N} \\in \\mathbb{R}^2$. Creaiamo un dataset sintetico a partire da una retta $y = ax + b$, campionando le $x$ da una distribuzione Gaussiana centrata nell'origine e aggiungendo rumore gaussiano sulle diverse $y$:\n"
   ],
   "metadata": {
    "collapsed": false,
    "id": "h81DzR9QmvV8",
    "pycharm": {
     "name": "#%% md\n"
    }
   }
  },
  {
   "cell_type": "code",
   "execution_count": null,
   "outputs": [],
   "source": [
    "# coefficiente angolare della retta\n",
    "a = 2.\n",
    "# varianza nelle x\n",
    "sigma_square_xs = 2.\n",
    "# varianza nelle y\n",
    "sigma_square_ys = 3.\n",
    "# campionamento delle diverse x\n",
    "xs = sigma_square_xs*np.random.randn(100,1)\n",
    "# campionamento delle diverse y\n",
    "ys = a * xs + sigma_square_ys*np.random.randn(100,1)"
   ],
   "metadata": {
    "pycharm": {
     "name": "#%%\n"
    },
    "id": "NS6j3PtGmvV-"
   }
  },
  {
   "cell_type": "code",
   "execution_count": null,
   "outputs": [
    {
     "output_type": "execute_result",
     "data": {
      "text/plain": [
       "[<matplotlib.lines.Line2D at 0x7f120d9990d0>]"
      ]
     },
     "metadata": {},
     "execution_count": 30
    },
    {
     "output_type": "display_data",
     "data": {
      "text/plain": [
       "<Figure size 432x288 with 1 Axes>"
      ],
      "image/png": "[encoded data removed]"
     },
     "metadata": {
      "needs_background": "light"
     }
    }
   ],
   "source": [
    "# visualizziamo i punti campionati insieme alla direzione del modello\n",
    "plt.scatter(xs, ys)\n",
    "plt.plot(np.arange(xs.min(),xs.max() + 1), a*np.arange(xs.min(),xs.max() + 1), '--r')"
   ],
   "metadata": {
    "pycharm": {
     "name": "#%%\n"
    },
    "id": "jSupOn_-mvWA",
    "outputId": "16ee3f93-e3ed-4cec-9ca8-f870f838b770",
    "colab": {
     "base_uri": "https://localhost:8080/",
     "height": 282
    }
   }
  },
  {
   "cell_type": "markdown",
   "source": [
    "Il nostro obiettivo è stimare l'asse principale (l'inclinazione $a$) utilizzando solo l'insieme dei punti. Per stimare l'asse principale risolviamo il seguente problema di minimizzazione:\n",
    "\n",
    "$$ \\min_{\\mathbf{v}} \\sum_{i} \\Vert \\mathbf{x}_i - \\text{proj}_{\\mathbf{v}}\\mathbf{x}_i\\Vert^2_2$$\n",
    "$$ \\text{s.t.} \\Vert \\mathbf{v} \\Vert_2 = 1$$\n",
    "\n",
    "Abbiamo visto dalla lezione teorica che questo problema è equivalente al seguente problema di massimizzazione:\n",
    "\n",
    "$$ \\max_{\\mathbf{v}} \\mathbf{v}^T \\mathbf{X}\\mathbf{X}^T \\mathbf{v}$$\n",
    "$$ \\text{s.t.} \\Vert \\mathbf{v} \\Vert_2 = 1,$$\n",
    "\n",
    "dove $\\mathbf{X}$ è ottenuta impilando i vettori colonna $\\mathbf{x}_i$\n",
    "\n",
    "Per il teorema min-max, essendo $\\mathbf{X}\\mathbf{X}^T$ *simmetrica*, il vettore $\\mathbf{v}$ che massimizza il problema di ottimizzazione è l'autovettore della matrice $\\mathbf{X}\\mathbf{X}^T$ avente autovalore massimo."
   ],
   "metadata": {
    "id": "sDVCL3cYmY76",
    "pycharm": {
     "name": "#%% md\n"
    }
   }
  },
  {
   "cell_type": "code",
   "execution_count": null,
   "outputs": [],
   "source": [
    "# calcoliamo la matrice X\n",
    "X = np.concatenate([xs.T, ys.T], axis=0)\n",
    "# stimiamo la matrice simmetrica X_pca = XX^T\n",
    "X_pca = X@X.T"
   ],
   "metadata": {
    "pycharm": {
     "name": "#%%\n"
    },
    "id": "tSOidduKmvWA"
   }
  },
  {
   "cell_type": "markdown",
   "source": [
    "Nella seguente riga calcoliamo gli autovettori e gli autovalori della matrice `X_pca`. Essendo `X_pca` simmetrica possiamo utilizzare la funzione `np.linalg.eigh` (`h` da matrice hermitiana, l'equivalente complesso delle matrici simmetriche reali). Per quello che abbiamo visto alla lezione teorica, le matrici simmetriche hanno autovalori reali. Nella seconda parte dell'esercitazione vedremo come calcolare gli autovalori: per adesso assumiamo che sappiamo fare ciò usando `eigh`."
   ],
   "metadata": {
    "id": "b9NuYpjWncGE",
    "pycharm": {
     "name": "#%% md\n"
    }
   }
  },
  {
   "cell_type": "code",
   "execution_count": null,
   "outputs": [
    {
     "output_type": "stream",
     "name": "stdout",
     "text": [
      "evals_pca = [ 157.41656012 2938.01989293]\n",
      "evecs_pca = [[-0.94603265  0.32407132]\n",
      " [ 0.32407132  0.94603265]]\n"
     ]
    }
   ],
   "source": [
    "evals_pca, evecs_pca = np.linalg.eigh(X_pca)\n",
    "\n",
    "# gli autovalori sono ordinati per norma\n",
    "print(f\"evals_pca = { evals_pca }\")\n",
    "# gli autovettori sono le colonne della seguente matrice, ognuno ordinato\n",
    "# relativamente all'autovalore associato\n",
    "print(f\"evecs_pca = { evecs_pca }\")"
   ],
   "metadata": {
    "pycharm": {
     "name": "#%%\n"
    },
    "id": "0is_KzXXmvWB",
    "outputId": "fd06d086-23aa-4d55-cb1a-fa5a5881d77e",
    "colab": {
     "base_uri": "https://localhost:8080/"
    }
   }
  },
  {
   "cell_type": "code",
   "execution_count": null,
   "outputs": [],
   "source": [
    "# come detto precedentemente, l'asse principale è l'autovettore associato\n",
    "# all'autovalore massimo\n",
    "principal_axis = evecs_pca[:,-1]\n",
    "# gli altri autovetori sono assi secondari (concetto utile in domini multivariati,\n",
    "# come vedremo nell'esercizio successivo)\n",
    "secondary_axis = evecs_pca[:, 0]"
   ],
   "metadata": {
    "pycharm": {
     "name": "#%%\n"
    },
    "id": "AoZTRR16mvWD"
   }
  },
  {
   "cell_type": "markdown",
   "source": [
    "Gli autovettori di una matrice simmetrica formano una base ortonormale: verifichiamo questo fatto:"
   ],
   "metadata": {
    "id": "0UdwrYQipD5R",
    "pycharm": {
     "name": "#%% md\n"
    }
   }
  },
  {
   "cell_type": "code",
   "execution_count": null,
   "outputs": [
    {
     "output_type": "stream",
     "name": "stdout",
     "text": [
      "principal_axis.T @ secondary_axis = 0.0\n",
      "norm(secondary_axis) = 0.9999999999999999\n",
      "norm(principal_axis) = 0.9999999999999999\n"
     ]
    }
   ],
   "source": [
    "print(f\"principal_axis.T @ secondary_axis = {principal_axis.T @ secondary_axis}\")\n",
    "print(f\"norm(secondary_axis) = {np.linalg.norm(secondary_axis)}\")\n",
    "print(f\"norm(principal_axis) = {np.linalg.norm(principal_axis)}\")"
   ],
   "metadata": {
    "pycharm": {
     "name": "#%%\n"
    },
    "id": "BQpaVVAwmvWE",
    "outputId": "2d0342f5-6784-41a6-ee61-d9e99d1661c3",
    "colab": {
     "base_uri": "https://localhost:8080/"
    }
   }
  },
  {
   "cell_type": "markdown",
   "source": [
    "Plottiamo gli assi principali trovati e confrontiamo con la direzione obiettivo:"
   ],
   "metadata": {
    "id": "sZBT9KrSp-b4",
    "pycharm": {
     "name": "#%% md\n"
    }
   }
  },
  {
   "cell_type": "code",
   "execution_count": null,
   "outputs": [
    {
     "output_type": "display_data",
     "data": {
      "text/plain": [
       "<Figure size 432x288 with 1 Axes>"
      ],
      "image/png": "[encoded data removed]"
     },
     "metadata": {
      "needs_background": "light"
     }
    }
   ],
   "source": [
    "fig = plt.figure()\n",
    "ax = fig.add_subplot(111)\n",
    "ax.scatter(xs, ys)\n",
    "ax.plot(np.arange(xs.min(),xs.max() + 1), a*np.arange(xs.min(),xs.max() + 1), '--r')\n",
    "ax.quiver([0,0],[0,0],principal_axis[0],principal_axis[1], angles='xy', scale_units='xy', scale=1, color='r')\n",
    "ax.quiver([0,0],[0,0],secondary_axis[0],secondary_axis[1], angles='xy', scale_units='xy', scale=1, color='b')\n",
    "ax.set_aspect('equal')\n",
    "ax.set_xlim(-2, 2);\n",
    "ax.set_ylim(-2, 2);"
   ],
   "metadata": {
    "pycharm": {
     "name": "#%%\n"
    },
    "id": "sPoTBLqxmvWG",
    "outputId": "76c22465-578b-427d-8092-316d4b665975",
    "colab": {
     "base_uri": "https://localhost:8080/",
     "height": 269
    }
   }
  },
  {
   "cell_type": "markdown",
   "source": [
    "Vediamo cosa succede se effetuiamo la procedura senza aver immesso del rumore sulle $y$:"
   ],
   "metadata": {
    "id": "SQukvoXsqeXM",
    "pycharm": {
     "name": "#%% md\n"
    }
   }
  },
  {
   "cell_type": "code",
   "execution_count": null,
   "outputs": [],
   "source": [
    "sigma_square_xs = 2.\n",
    "xs = sigma_square_xs*np.random.randn(100,1)\n",
    "ys = a * xs"
   ],
   "metadata": {
    "pycharm": {
     "name": "#%%\n"
    },
    "id": "PCZ-UCYImvWH"
   }
  },
  {
   "cell_type": "code",
   "source": [
    "X = np.concatenate([xs.T, ys.T], axis=0)\n",
    "\n",
    "evals, evecs = np.linalg.eigh(X@X.T)\n",
    "\n",
    "\n",
    "print(f\"evals = { evals }\")\n",
    "print(f\"evecs = { evecs }\")"
   ],
   "metadata": {
    "id": "Jf2tMwWno1Tx",
    "pycharm": {
     "name": "#%%\n"
    }
   },
   "execution_count": null,
   "outputs": []
  },
  {
   "cell_type": "code",
   "execution_count": null,
   "outputs": [],
   "source": [
    "principal_axis = evecs[:, -1]\n",
    "secondary_axis = evecs[:, 0]"
   ],
   "metadata": {
    "pycharm": {
     "name": "#%%\n"
    },
    "id": "3BoBVLv-mvWJ"
   }
  },
  {
   "cell_type": "code",
   "execution_count": null,
   "outputs": [
    {
     "output_type": "stream",
     "name": "stdout",
     "text": [
      "norm(principal_axis) = 1.0\n",
      "norm(secondary_axis) = 1.0\n"
     ]
    }
   ],
   "source": [
    "print(f\"norm(principal_axis) = {np.linalg.norm(principal_axis) }\")\n",
    "print(f\"norm(secondary_axis) = {np.linalg.norm(secondary_axis) }\")"
   ],
   "metadata": {
    "pycharm": {
     "name": "#%%\n"
    },
    "id": "pq4AlLOamvWK",
    "outputId": "ef81cf2a-f3a0-4876-d0a9-86cbe49c82c4",
    "colab": {
     "base_uri": "https://localhost:8080/"
    }
   }
  },
  {
   "cell_type": "code",
   "execution_count": null,
   "outputs": [
    {
     "output_type": "display_data",
     "data": {
      "text/plain": [
       "<Figure size 432x288 with 1 Axes>"
      ],
      "image/png": "[encoded data removed]"
     },
     "metadata": {
      "needs_background": "light"
     }
    }
   ],
   "source": [
    "fig = plt.figure()\n",
    "ax = fig.add_subplot(111)\n",
    "ax.scatter(xs, ys)\n",
    "ax.plot(np.arange(xs.min(),xs.max() + 1), a*np.arange(xs.min(),xs.max() + 1), '--r')\n",
    "ax.quiver([0,0],[0,0],principal_axis[0],principal_axis[1], angles='xy', scale_units='xy', scale=1, color='r')\n",
    "ax.quiver([0,0],[0,0],secondary_axis[0],secondary_axis[1], angles='xy', scale_units='xy', scale=1, color='b')\n",
    "ax.set_aspect('equal')\n",
    "ax.set_xlim(-2, 2);\n",
    "ax.set_ylim(-2, 2);"
   ],
   "metadata": {
    "pycharm": {
     "name": "#%%\n"
    },
    "id": "s3ATLwv-mvWL",
    "outputId": "93ee39df-6945-4580-9acb-a4a5c08912e2",
    "colab": {
     "base_uri": "https://localhost:8080/",
     "height": 269
    }
   }
  },
  {
   "cell_type": "markdown",
   "source": [
    "In questo caso l'asse principale coincide con la direzione obiettivo, in quanto i diversi punti si dispongono esattamente sulla retta."
   ],
   "metadata": {
    "id": "g-JrszMwsj38",
    "pycharm": {
     "name": "#%% md\n"
    }
   }
  },
  {
   "cell_type": "markdown",
   "source": [
    "## Esercizio 2 - MNIST PCA\n",
    "\n",
    "1. Caricare i dati di test del dataset MNIST, contenente immagini monocromatiche 28x28 di caratteri numerici scritti a mano.\n",
    "2. Filtrare le immagini contenenti il carattere 0. Plottare un esempio.\n",
    "3. Ripetere l'Esercizio 1 dove i dati sono quelli ottenuti al punto precedente. Rispetto all'esercizio precedente, centrare esplicitamente nell'origine i dati.\n",
    "4. Plottare le prime 10 direzioni principali.\n",
    "5. Ottenere 10 immagini combinando linearmente le prime 10 direzioni principali.\n",
    "\n",
    "BONUS (per casa) Ripetere l'esercizio considerando due classi numeriche diverse, per esempio 0 e 1 e vedere come cambiano gli assi principali."
   ],
   "metadata": {
    "collapsed": false,
    "pycharm": {
     "name": "#%% md\n"
    },
    "id": "N2GueAhjmvWM"
   }
  },
  {
   "cell_type": "code",
   "execution_count": null,
   "outputs": [],
   "source": [
    "_, (Xs, ys) = mnist.load_data()\n",
    "\n",
    "# Filtrare solo le classi contententi 0 e normalizzare\n",
    "zero_Xs = ...\n",
    "zero_Xs = ..."
   ],
   "metadata": {
    "pycharm": {
     "name": "#%%\n"
    },
    "id": "nxiDAKchmvWN"
   }
  },
  {
   "cell_type": "code",
   "execution_count": null,
   "outputs": [],
   "source": [
    "# Plottare la prima immagine nel dataset\n",
    "\n",
    "# plt.imshow(zero_Xs[0, :, :])"
   ],
   "metadata": {
    "pycharm": {
     "name": "#%%\n"
    },
    "id": "wDoFCkSzmvWO"
   }
  },
  {
   "cell_type": "code",
   "execution_count": null,
   "outputs": [],
   "source": [
    "# Reshape-are ogni immagine per farla diventare un vettore\n",
    "X = ...\n",
    "# Ottenere la media dei punti\n",
    "X_mean = ...\n",
    "# Centrare i punti nell'origine\n",
    "X = ...\n",
    "\n",
    "# Calcolare la matrice di covarianza\n",
    "X_mnist = ..."
   ],
   "metadata": {
    "pycharm": {
     "name": "#%%\n"
    },
    "id": "FhfE9HV2mvWO"
   }
  },
  {
   "cell_type": "code",
   "execution_count": null,
   "outputs": [],
   "source": [
    "# Calcolare autovalori e autovettori\n",
    "\n",
    "evals_mnist, evecs_mnist = ..., ..."
   ],
   "metadata": {
    "pycharm": {
     "name": "#%%\n"
    },
    "id": "UP_YePJTmvWP"
   }
  },
  {
   "cell_type": "code",
   "execution_count": null,
   "outputs": [],
   "source": [
    "# plottare le prime 10 direzioni principali\n",
    "for i_direction in range(10):\n",
    "    # l'i-esima direzione principale\n",
    "    component = ...\n",
    "    # plt.figure()\n",
    "    # plt.imshow(...)\n",
    "    # plt.colorbar()"
   ],
   "metadata": {
    "pycharm": {
     "name": "#%%\n"
    },
    "id": "1xhjVphdmvWQ"
   }
  },
  {
   "cell_type": "code",
   "execution_count": null,
   "outputs": [],
   "source": [
    "components = ... \n",
    "for i in range(10):\n",
    "    # campionare un vettore di coefficienti in modo random\n",
    "    coeff_vector = ...\n",
    "    # combinazione lineare con gli assi principali\n",
    "    new_x = ...\n",
    "\n",
    "    # plottare le combinazioni (re-introducendo l'offset rispetto all'origine)\n",
    "    # plt.figure()\n",
    "    # plt.imshow(...)\n",
    "    # plt.colorbar()"
   ],
   "metadata": {
    "pycharm": {
     "name": "#%%\n"
    },
    "id": "2m1_cWB7mvWQ"
   }
  },
  {
   "cell_type": "markdown",
   "source": [
    "## Esercizio 3 - Quoziente di Rayleigh\n",
    "\n",
    "Il quoziente di Rayleigh di $\\mathbf{v}$ rispetto alla matrice $A$ è definito da $\\frac{\\mathbf{v}^TA \\mathbf{v}}{\\Vert \\mathbf{v} \\Vert^2_2}$. In questo esercizio vogliamo vedere come cambia sulla sfera unitaria in $\\mathbb{R}^3$."
   ],
   "metadata": {
    "collapsed": false,
    "pycharm": {
     "name": "#%% md\n"
    },
    "id": "4dPj7IkdmvWR"
   }
  },
  {
   "cell_type": "markdown",
   "source": [
    "1. Calcolare una matrice random 3x3 simmetrica $X_\\text{sym}$\n",
    "2. Calcolare gli autovettori di $X_\\text{sym}$\n",
    "3. Visualizzare gli autovettori con `quiver`\n",
    "4. Plottare il quoziente di Rayleigh sulla sfera unitaria (campionata come una nuvola di punti, per esempio usando `fibonacci_sphere`)"
   ],
   "metadata": {
    "id": "lUTlLMPd0ZDt",
    "pycharm": {
     "name": "#%% md\n"
    }
   }
  },
  {
   "cell_type": "code",
   "execution_count": 3,
   "outputs": [
    {
     "output_type": "stream",
     "name": "stdout",
     "text": [
      "X before symmetrization: Ellipsis\n",
      "X after symmetrization: Ellipsis\n",
      "Det(X) = Ellipsis\n"
     ]
    }
   ],
   "source": [
    "sigma2 = 2\n",
    "X = ...\n",
    "print(f\"X prima della simmetrizzazione: {X}\")\n",
    "X_sym = ...\n",
    "print(f\"X dopo la simmetrizzazione: {X_sym}\")\n",
    "\n",
    "# Controlliamo il determinante di di X_sym per assicurarci che le colonne sono \n",
    "# linearmente indipendenti.\n",
    "det_X_sym = ...\n",
    "print(f\"Det(X) = { det_X_sym }\")\n",
    "# plt.figure()\n",
    "# plt.imshow(X_sym)\n",
    "# plt.colorbar()"
   ],
   "metadata": {
    "pycharm": {
     "name": "#%%\n"
    },
    "id": "aQ-Oi1G6mvWS",
    "outputId": "4f94fe83-81b0-4506-8c0d-2f285b172d66",
    "colab": {
     "base_uri": "https://localhost:8080/"
    }
   }
  },
  {
   "cell_type": "code",
   "execution_count": 8,
   "outputs": [],
   "source": [
    "# calcoliamo autovalori e autovettori\n",
    "evals_sym, evecs_sym = ..., ..."
   ],
   "metadata": {
    "pycharm": {
     "name": "#%%\n"
    },
    "id": "NeTHxSd7mvWS"
   }
  },
  {
   "cell_type": "code",
   "execution_count": 9,
   "outputs": [],
   "source": [
    "# %matplotlib inline\n",
    "# ax = plt.figure(figsize=(8, 8)).add_subplot(projection='3d')\n",
    "# ax.quiver([0,0,0],[0,0,0],[0,0,0],evecs_sym[0,:],evecs_sym[1, :],evecs_sym[2, :],  color='b')\n",
    "# ax.set_xlim(-1, 1);\n",
    "# ax.set_ylim(-1, 1);\n",
    "# ax.set_zlim(-1, 1);"
   ],
   "metadata": {
    "pycharm": {
     "name": "#%%\n"
    },
    "id": "U5fEUTDLmvWT"
   }
  },
  {
   "cell_type": "code",
   "execution_count": 7,
   "outputs": [],
   "source": [
    "def fibonacci_sphere(samples=5000):\n",
    "    points = []\n",
    "    phi = math.pi * (3. - math.sqrt(5.))  # golden angle in radians\n",
    "\n",
    "    for i in range(samples):\n",
    "        y = 1 - (i / float(samples - 1)) * 2  # y goes from 1 to -1\n",
    "        radius = math.sqrt(1 - y * y)  # radius at y\n",
    "\n",
    "        theta = phi * i  # golden angle increment\n",
    "\n",
    "        x = math.cos(theta) * radius\n",
    "        z = math.sin(theta) * radius\n",
    "\n",
    "        points.append((x, y, z))\n",
    "\n",
    "    return points"
   ],
   "metadata": {
    "pycharm": {
     "name": "#%%\n"
    },
    "id": "dEmRlGV4mvWU"
   }
  },
  {
   "cell_type": "code",
   "execution_count": 11,
   "outputs": [],
   "source": [
    "# Otteniamo i punti attraverso fibonacci_sphere()\n",
    "points = ... # fibonacci_sphere()\n",
    "points = ... # np.asarray(points)\n",
    "\n",
    "# Calcoliamo il coefficiente di Rayleigh sui punti della sfera\n",
    "rayleigh = ...\n",
    "\n",
    "# Visualizzazione\n",
    "\n",
    "# fig = plt.figure(figsize=(8, 8))\n",
    "# ax = plt.axes(projection='3d')\n",
    "# ax.scatter3D(points[:,0], points[:,1], points[:,2], s=0.5, c=rayleigh)\n",
    "# plt.colorbar()\n",
    "\n",
    "# ax.quiver([0],[0,],[0,],evecs_sym[0,0],evecs_sym[1, 0],evecs_sym[2, 0],  color=cm.viridis(0.))\n",
    "# ax.quiver([0],[0,],[0,],evecs_sym[0,1],evecs_sym[1, 1],evecs_sym[2, 1],  color=cm.viridis(0.5))\n",
    "# ax.quiver([0],[0,],[0,],evecs_sym[0,2],evecs_sym[1, 2],evecs_sym[2, 2],  color=cm.viridis(1.))\n",
    "\n",
    "# ax.set_xlim(-1, 1);\n",
    "# ax.set_ylim(-1, 1);\n",
    "# ax.set_zlim(-1, 1);"
   ],
   "metadata": {
    "pycharm": {
     "name": "#%%\n"
    },
    "id": "_btP82JpmvWU"
   }
  },
  {
   "cell_type": "markdown",
   "source": [
    "## Esercizio 4 - Power Iteration\n",
    "\n",
    "1. Implementare la Power Iteration nella funzione `power_iteration(A, steps)`,\n",
    "la funzione deve restituire anche i risultati intermedi in una lista `interm`\n",
    "2. Applicare `power_iteration(A, steps)` su `X_pca` dell'Esercizio 1.\n",
    "3. Confrontare il risultato ottenuto con l'autovettore `evecs_pca[:, -1]` relativo all'autovalore massimo dell'Esercizio 1.\n",
    "4. Visualizzare l'errore per ogni step dell'iterazione relativamente a `evecs_pca[:, -1]`\n",
    "\n",
    "BONUS. Creare un'animazione dove vengono visualizzati i risultati intermedi della Power Iteration"
   ],
   "metadata": {
    "collapsed": false,
    "pycharm": {
     "name": "#%% md\n"
    },
    "id": "sCfVm14amvWV"
   }
  },
  {
   "cell_type": "code",
   "execution_count": null,
   "outputs": [],
   "source": [
    "def power_iteration(A, steps=10):\n",
    "    ..."
   ],
   "metadata": {
    "pycharm": {
     "name": "#%%\n"
    },
    "id": "Cz69FmEmmvWW"
   }
  },
  {
   "cell_type": "code",
   "execution_count": 15,
   "outputs": [],
   "source": [
    "# A = X_pca\n",
    "\n",
    "# Calcoliamo l'autovettore massimo usando power_iteration (e le soluzioni intermedie)\n",
    "evec_max, interm = ..., ...\n",
    "\n",
    "# Concateniamo i risultati intermedi in una matrice \n",
    "interm = ...\n",
    "# Otteniamo l'autovalore massimo come quoziente di Rayleigh\n",
    "eval_max = ..."
   ],
   "metadata": {
    "pycharm": {
     "name": "#%%\n"
    },
    "id": "3wy0G09SmvWX"
   }
  },
  {
   "cell_type": "code",
   "execution_count": 16,
   "outputs": [],
   "source": [
    "# print(f\"evec_max = {evec_max}\")\n",
    "# print(f\"evec_max_pca = {evecs_pca[:, -1]}\")\n",
    "# print(f\"eval_max = {eval_max}\")\n",
    "# print(f\"eval_max_pca = {evals_pca[-1]}\")"
   ],
   "metadata": {
    "pycharm": {
     "name": "#%%\n"
    },
    "id": "SRgdD3hBmvWY"
   }
  },
  {
   "cell_type": "code",
   "execution_count": 19,
   "outputs": [],
   "source": [
    "# Calcoliamo l'errore tra la soluzione e le ipotesi intermedie\n",
    "error = ...\n",
    "# plt.figure()\n",
    "# plt.plot(np.arange(10), error)"
   ],
   "metadata": {
    "pycharm": {
     "name": "#%%\n"
    },
    "id": "lMuzgBykmvWY"
   }
  },
  {
   "cell_type": "markdown",
   "source": [
    "## Esercizio 5 - Inverse Iteration\n",
    "\n",
    "1. Usare la Power Iteration definita nell'esercizio precedente per ottenere l'autovettore minimo di `X_pca` dell'Esercizio 1.\n",
    "2. Confrontare il risultato ottenuto con l'autovettore `evecs_pca[:, 0]` relativo all'autovalore minimo dell'Esercizio 1.\n",
    "4. Visualizzare l'errore per ogni step dell'iterazione relativamente a `evecs_pca[:, 0]`"
   ],
   "metadata": {
    "collapsed": false,
    "pycharm": {
     "name": "#%% md\n"
    },
    "id": "I9RzjYwDmvWZ"
   }
  },
  {
   "cell_type": "code",
   "execution_count": 24,
   "outputs": [],
   "source": [
    "# A = X_pca\n",
    "\n",
    "evec_min, interm = ..., ...\n",
    "interm = ... \n",
    "eval_min = ... "
   ],
   "metadata": {
    "pycharm": {
     "name": "#%%\n"
    },
    "id": "KayEoKtqmvWa"
   }
  },
  {
   "cell_type": "code",
   "execution_count": 20,
   "outputs": [],
   "source": [
    "# print(f\"evec_min = {evec_min}\")\n",
    "# print(f\"evec_min_pca = {evecs_pca[:, 0]}\")\n",
    "# print(f\"eval_min = {eval_min}\")\n",
    "# print(f\"eval_min_pca = {evals_pca[0]}\")"
   ],
   "metadata": {
    "pycharm": {
     "name": "#%%\n"
    },
    "id": "Iq6Cn0ormvWa"
   }
  },
  {
   "cell_type": "code",
   "execution_count": 21,
   "outputs": [],
   "source": [
    "error = ...\n",
    "# plt.figure()\n",
    "# plt.plot(np.arange(10), np.linalg.norm(interm + evecs_pca[:, 0][:, np.newaxis], axis=0))"
   ],
   "metadata": {
    "pycharm": {
     "name": "#%%\n"
    },
    "id": "vx9goSpemvWb"
   }
  },
  {
   "cell_type": "markdown",
   "source": [
    "## Esercizio 6 - Shifting\n",
    "\n",
    "1. Calcolare l'autovalore intermedio dell'Esercizio 3 usando la tecnica del shifting (senza utilizzare `np.linalg.eigh`). Per stimare la $\\sigma$ di shift, possiamo calcolare per prima cosa gli autovalori estremi con la Power Iteration e con la Power Iteration inversa.\n",
    "2. Shiftare di un valore compreso tra gli estremi trovati nel primo punto: effettuare una grid search per trovare il nuovo autovalore.\n",
    "3. Confrontare il valore trovato con quello restituito da `np.linalg.eigh`."
   ],
   "metadata": {
    "collapsed": false,
    "pycharm": {
     "name": "#%% md\n"
    },
    "id": "BF0gmSOlmvWb"
   }
  },
  {
   "cell_type": "code",
   "execution_count": 30,
   "outputs": [],
   "source": [
    "# A = X_sym\n",
    "\n",
    "# Calcolo dell'autovettore minimo e massimo\n",
    "evec_min, _ = ..., ...\n",
    "evec_max, _ = ..., ... \n",
    "\n",
    "# Calcolo dell'autovalore minimo e massimo\n",
    "eval_min = ...\n",
    "eval_max = ..."
   ],
   "metadata": {
    "pycharm": {
     "name": "#%%\n"
    },
    "id": "ke2oaSl3mvWc"
   }
  },
  {
   "cell_type": "code",
   "execution_count": null,
   "outputs": [
    {
     "name": "stdout",
     "output_type": "stream",
     "text": [
      "eval_max = 9.416130090047965\n",
      "eval_min = 0.12060875223571152\n"
     ]
    }
   ],
   "source": [
    "# print(f\"eval_max = {eval_max}\")\n",
    "# print(f\"eval_min = {eval_min}\")"
   ],
   "metadata": {
    "pycharm": {
     "name": "#%%\n"
    },
    "id": "lje7jqnamvWc",
    "outputId": "3b119ab5-de62-4424-b2a7-644a5038ad00"
   }
  },
  {
   "cell_type": "code",
   "execution_count": 33,
   "outputs": [],
   "source": [
    "# Grid search su 10 valori intermedi a eval_min e eval_max\n",
    "for sigma in range(10):\n",
    "    # effettuare lo shift di sigma sulla matrice A\n",
    "    A_shifted = ...\n",
    "    # ottenere l'autovettore shiftato\n",
    "    evec_middle, _ = ..., ...\n",
    "    # calcolo dell'autovalore relativo\n",
    "    eval_middle = ...\n",
    "    # print(f\"eval_middle = {eval_middle}\")\n",
    "    # uscire quando è stato trovato l'autovalore nuovo\n",
    "\n",
    "    # if not np.isclose(eval_middle, eval_min) and not np.isclose(eval_middle, eval_max):\n",
    "    #    break\n",
    "  \n",
    "# Confrontare il valore trovato con quello restituito da `np.linalg.eigh`:\n",
    "# np.linalg.eigh(A)[0]"
   ],
   "metadata": {
    "pycharm": {
     "name": "#%%\n"
    },
    "id": "c_k4nuz0mvWe"
   }
  },
  {
   "cell_type": "markdown",
   "source": [
    "## Esercizio 7 - QR Iteration"
   ],
   "metadata": {
    "collapsed": false,
    "pycharm": {
     "name": "#%% md\n"
    },
    "id": "lrj6Uw3TmvWf"
   }
  },
  {
   "cell_type": "markdown",
   "source": [
    "1. Implementare le Iterazioni QR nella funzione `QR_iterations(A, steps)` (usare\n",
    "`np.linalg.qr` per effettuare la fattorizzazione QR)\n",
    "2. Calcolare tutti i valori assoluti degli autovalori della matrice `X_mnist` dell'Esercizio 2 usando l'le iterazioni QR prima con 10 steps poi con 100 steps.\n",
    "Sortare questa sequenza rispetto al valore assoluto.\n",
    "3. Confrontare i risultati ottenuti con gli autovalori ottenuti nell'Esercizio 2 (plottando una porzione di essi e effettuando la distanza $L_2$) e vedere come cambiano i risultati all'aumentare del numero di iterazioni."
   ],
   "metadata": {
    "collapsed": false,
    "pycharm": {
     "name": "#%% md\n"
    },
    "id": "_vUjDnFUmvWg"
   }
  },
  {
   "cell_type": "code",
   "execution_count": 36,
   "outputs": [],
   "source": [
    "def QR_iterations(A, steps=100):\n",
    "  ..."
   ],
   "metadata": {
    "pycharm": {
     "name": "#%%\n"
    },
    "id": "c82A8KNEmvWh"
   }
  },
  {
   "cell_type": "code",
   "source": [
    "# A = X_mnist\n",
    "\n",
    "# calcoliamo i moduli degli autovalori su  e sortiamo (usiamo 10 passi di iterazione)\n",
    "qr_evals = ..."
   ],
   "metadata": {
    "id": "E7z2ux_7oEB7",
    "pycharm": {
     "name": "#%%\n"
    }
   },
   "execution_count": 42,
   "outputs": []
  },
  {
   "cell_type": "code",
   "source": [
    "# Compariamo (gli ultimi 25) valori assoluti di `qr_evals` con quelli ottenuti attraverso `np.linalg.eigh`:\n",
    "\n",
    "# plt.plot(np.sort(np.abs(qr_evals))[-25:])\n",
    "# plt.plot(np.sort(np.abs(evals_mnist))[-25:])\n",
    "error = ...\n",
    "print(f\"L2(qr_evals, evals_mnist) = {error}\")"
   ],
   "metadata": {
    "colab": {
     "base_uri": "https://localhost:8080/"
    },
    "id": "X98hLMw9oFVE",
    "outputId": "280968c7-638b-437c-d13c-3b053b2e752f",
    "pycharm": {
     "name": "#%%\n"
    }
   },
   "execution_count": 43,
   "outputs": [
    {
     "output_type": "stream",
     "name": "stdout",
     "text": [
      "L2(qr_evals, evals_mnist) = Ellipsis\n"
     ]
    }
   ]
  },
  {
   "cell_type": "code",
   "source": [
    "# Usiamo 100 passi di iterazione\n",
    "qr_evals = ..."
   ],
   "metadata": {
    "id": "gGqv3YNJqTfc",
    "pycharm": {
     "name": "#%%\n"
    }
   },
   "execution_count": 45,
   "outputs": []
  },
  {
   "cell_type": "code",
   "source": [
    "# plt.plot(np.sort(np.abs(qr_evals))[-25:])\n",
    "# plt.plot(np.sort(np.abs(evals_mnist))[-25:])\n",
    "error = ...\n",
    "print(f\"L2(qr_evals, evals_mnist) = {error}\")"
   ],
   "metadata": {
    "colab": {
     "base_uri": "https://localhost:8080/"
    },
    "id": "WAXBYjCeohfG",
    "outputId": "f36a3fd8-f050-44d5-cb16-a129ca2b4698",
    "pycharm": {
     "name": "#%%\n"
    }
   },
   "execution_count": 47,
   "outputs": [
    {
     "output_type": "stream",
     "name": "stdout",
     "text": [
      "L2(qr_evals, evals_mnist) = Ellipsis\n"
     ]
    }
   ]
  }
 ],
 "metadata": {
  "kernelspec": {
   "display_name": "Python 3",
   "language": "python",
   "name": "python3"
  },
  "language_info": {
   "codemirror_mode": {
    "name": "ipython",
    "version": 2
   },
   "file_extension": ".py",
   "mimetype": "text/x-python",
   "name": "python",
   "nbconvert_exporter": "python",
   "pygments_lexer": "ipython2",
   "version": "2.7.6"
  },
  "colab": {
   "name": "ex5.ipynb",
   "provenance": [],
   "collapsed_sections": [],
   "include_colab_link": true
  }
 },
 "nbformat": 4,
 "nbformat_minor": 0
}