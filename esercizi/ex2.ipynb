{
  "nbformat": 4,
  "nbformat_minor": 0,
  "metadata": {
    "colab": {
      "name": "ex2.ipynb",
      "provenance": [],
      "collapsed_sections": [],
      "authorship_tag": "ABX9TyNYcj1YiFmQ2m0WL1cLSh4G",
      "include_colab_link": true
    },
    "kernelspec": {
      "name": "python3",
      "display_name": "Python 3"
    },
    "language_info": {
      "name": "python"
    }
  },
  "cells": [
    {
      "cell_type": "markdown",
      "metadata": {
        "id": "view-in-github",
        "colab_type": "text"
      },
      "source": [
        "<a href=\"https://colab.research.google.com/github/erodola/NumMeth-s2-2022/blob/main/esercizi/ex2.ipynb\" target=\"_parent\"><img src=\"https://colab.research.google.com/assets/colab-badge.svg\" alt=\"Open In Colab\"/></a>"
      ]
    },
    {
      "cell_type": "markdown",
      "source": [
        "Benvenuti alla seconda esercitazione di Metodi Numerici! \n",
        "\n",
        "Oggi esploreremo il concetto di regressione e quello di gradiente"
      ],
      "metadata": {
        "id": "zjmGs2B47iIO"
      }
    },
    {
      "cell_type": "code",
      "execution_count": null,
      "metadata": {
        "id": "stn5fm-k_jGz"
      },
      "outputs": [],
      "source": [
        "!wget https://imagemagick.org/image/gradients/linear_gradient.png\n",
        "!wget https://imagemagick.org/image/gradients/radial_gradient.png\n",
        "!wget https://imagemagick.org/image/gradients/radial_gradient_ellipse_angle45.png\n",
        "!wget https://happycoding.io/examples/processing/for-loops/images/corner-gradient-4.png\n",
        "!wget https://assets.weforum.org/editor/3Vfo-4dlgdvyx-GzXP2Vam8pRqmca7-0vJBgA8hPt0M.png -O worldmap.png\n",
        "!wget https://time.graphics/uploadedFiles/500/b5/a4/b5a4d7665e45a1d24c807635d24106f8.jpg -O building.jpg\n",
        "!wget https://github.com/erodola/NumMeth-s2-2022/blob/main/esercizi/ex2/MountainTerrain.ply\n",
        "!wget https://raw.githubusercontent.com/erodola/NumMeth-s2-2022/main/esercizi/ex2/Mountain.ply\n",
        "\n",
        "!pip install open3d\n",
        "import os\n",
        "os.kill(os.getpid(), 9)"
      ]
    },
    {
      "cell_type": "code",
      "source": [
        "import numpy as np\n",
        "import matplotlib.pyplot as plt \n",
        "from PIL import Image\n",
        "import math\n",
        "import plotly.graph_objects as go\n",
        "import numpy as np\n",
        "import open3d as o3d \n",
        "#import os \n",
        "\n",
        "%matplotlib inline"
      ],
      "metadata": {
        "id": "CjSXFqeUmK9l"
      },
      "execution_count": null,
      "outputs": []
    },
    {
      "cell_type": "markdown",
      "source": [
        "## Regressione lineare"
      ],
      "metadata": {
        "id": "6ZHpmW2vcE52"
      }
    },
    {
      "cell_type": "markdown",
      "source": [
        "Come possiamo calcolare una regressione lineare? Vediamo prima di tutto l'esempio con le funzioni disponibili in Python:"
      ],
      "metadata": {
        "id": "e5_KEH9z_1FG"
      }
    },
    {
      "cell_type": "code",
      "source": [
        "# Il tempo sarà il nostro asse delle X\n",
        "mese = np.array([1, 2, 3, 4, 5])\n",
        "\n",
        "# Il numero di panini mangiati dall'inizio dell'anno sarà il nostro asse delle y\n",
        "panini = np.array([10, 22, 28, 41, 51])\n",
        "\n",
        "plt.scatter(mese, panini)"
      ],
      "metadata": {
        "id": "TWn_GZZ5AX0J"
      },
      "execution_count": null,
      "outputs": []
    },
    {
      "cell_type": "markdown",
      "source": [
        "Cerchiamo per i nostri punti una regola nella forma:\n",
        "$ y = a x + b $.\n",
        "\n",
        "Notiamo già ad occhio che non esiste una retta che passa da tutti i punti, quindi dovremo trovare una soluzione ai minimi quadrati.\n",
        "\n"
      ],
      "metadata": {
        "id": "J4p-iz0OipK8"
      }
    },
    {
      "cell_type": "code",
      "source": [
        "# In numpy troviamo la funzione \"polyfit\". Questa funzione richiede come argomenti\n",
        "# i valori delle X, i valori delle Y, e l'ordine del polinomio che vogliamo utilizzare \n",
        "# NB: ovviamente, la funzione assume che X e Y siano ordinate in modo coerente tra loro\n",
        "retta = np.polyfit(mese, panini, 1)\n",
        "\n",
        "# L'output ritornato sono i coefficienti dell'equazione della retta, ordinati per\n",
        "# grado decrescente (prima il coefficiente angolare e poi l'intercetta)\n",
        "print(retta)"
      ],
      "metadata": {
        "id": "RLb0ZSH7A-r_"
      },
      "execution_count": null,
      "outputs": []
    },
    {
      "cell_type": "markdown",
      "source": [
        "Qual è la retta che abbiamo trovato? \n",
        "Stiamo cercando una retta della forma\n",
        "\n",
        "$$panini = a + b_0*mese$$\n",
        "\n",
        "Il metodo polyfit retituisce i coefficienti [$b_0$, $a$].\n"
      ],
      "metadata": {
        "id": "gfIb-_qYDprO"
      }
    },
    {
      "cell_type": "markdown",
      "source": [
        "Avremo quindi:\n",
        "\n",
        "$$panini = 0.1 + 10.1*mese$$\n",
        "\n",
        "Per esempio, per il mese 1, avremmo:\n",
        "$$panini = 0.1 + 10.1*1 = 10.2$$\n",
        "Per il mese 4\n",
        "$$panini = 0.1 + 10.1*4 = 40.5$$\n",
        "\n"
      ],
      "metadata": {
        "id": "VTy6fCQsDuub"
      }
    },
    {
      "cell_type": "code",
      "source": [
        "# la funzione numpy.polyval() chiede:\n",
        "# i coefficienti del polinomio (retta)\n",
        "# i punti in cui valutare il polinomio (mese).\n",
        "\n",
        "# numpy.polyval restituisce una lista, con i valori\n",
        "# per i punti specificati\n",
        "\n",
        "panini_stimati_retta = np.polyval(retta, mese)\n",
        "\n",
        "plt.scatter(mese, panini, c='b')\n",
        "plt.scatter(mese, panini_stimati_retta, c='r')\n",
        "\n",
        "plt.legend(('panini','stima'))"
      ],
      "metadata": {
        "id": "sb-QKlfDD8cI"
      },
      "execution_count": null,
      "outputs": []
    },
    {
      "cell_type": "markdown",
      "source": [
        "Ecco quindi che le nostre stime sembrano abbastanza accurate: proviamo a misurare l'errore ai minimi quadrati."
      ],
      "metadata": {
        "id": "hGJYKY02FCe-"
      }
    },
    {
      "cell_type": "code",
      "source": [
        "L = np.sum((panini - panini_stimati_retta)**2)\n",
        "print(L)"
      ],
      "metadata": {
        "id": "1AomimbxFNXA"
      },
      "execution_count": null,
      "outputs": []
    },
    {
      "cell_type": "markdown",
      "source": [
        "Ora facciamo un po' di pratica con le forme matriciali. Sappiamo che il nostro problema può essere scritto come segue:\n",
        "\n",
        "$\\begin{bmatrix} y_1 \\\\ y_2 \\\\ \\dots \\\\ y_n \\end{bmatrix} = \\begin{bmatrix} x_1 & 1 \\\\ x_2 & 1 \\\\ \\dots & \\dots \\\\ x_n & 1\\end{bmatrix} \\begin{bmatrix} a \\\\ b \\end{bmatrix} $\n",
        "\n",
        "ovvero: \n",
        "\n",
        "$ \\mathbf{y = X \\theta} $\n",
        "\n",
        "Risolvendo per $\\theta$:\n",
        "\n",
        "$ \\mathbf{X^{-1} y = \\theta} $\n",
        "\n"
      ],
      "metadata": {
        "id": "fNQyYls6F1rj"
      }
    },
    {
      "cell_type": "code",
      "source": [
        "# Nel vettore y andranno i nostri valori sull'asse Y\n",
        "y = panini\n",
        "\n",
        "# Nella matrice X dobbiamo avere una colonna con i valori delle X, e una di tutti 1\n",
        "X = np.concatenate((mese[:,np.newaxis], np.ones((mese.shape[0],1))),1)\n",
        "\n",
        "# Calcoliamo l'inversa di X\n",
        "X_inv = np.linalg.pinv(X)\n",
        "\n",
        "# Risolviamo seguendo l'equazione:\n",
        "retta_2 = X_inv @ y"
      ],
      "metadata": {
        "id": "lqrO6rfdIHI8"
      },
      "execution_count": null,
      "outputs": []
    },
    {
      "cell_type": "code",
      "source": [
        "print(retta_2)"
      ],
      "metadata": {
        "id": "cfPGpaE9uhAd"
      },
      "execution_count": null,
      "outputs": []
    },
    {
      "cell_type": "code",
      "source": [
        "# Valutiamo le y ottenute dai parametri:\n",
        "print(X @ retta_2)\n",
        "\n",
        "# Riportiamo anche i valori ottenuti con polyval\n",
        "print(panini_stimati_retta)"
      ],
      "metadata": {
        "id": "y7P8Tw84Bq1i"
      },
      "execution_count": null,
      "outputs": []
    },
    {
      "cell_type": "markdown",
      "source": [
        "Ora proviamo a risolverlo calcolandoci il gradiente dell'errore e ponendolo a zero. Ci ricordiamo che il gradiente vale \n",
        "\n",
        "$\\nabla_{\\mathbf{\\Theta}} \\|\\mathbf{Y^T - X^T \\theta} \\|_F^2 = - 2 \\mathbf{XY}^T + 2 \\mathbf{XX}^T \\theta$\n",
        "\n",
        "Se lo risolviamo per $\\theta$ e lo poniamo uguale a zero otteniamo:\n",
        "\n",
        "$\\mathbf{\\theta} = (X^T X)^{-1} X^T y$\n"
      ],
      "metadata": {
        "id": "j76uHdY9ut63"
      }
    },
    {
      "cell_type": "code",
      "source": [
        "retta_3 = np.linalg.pinv(X.T @ X) @ X.T @ y"
      ],
      "metadata": {
        "id": "XWNt7hcNutc4"
      },
      "execution_count": null,
      "outputs": []
    },
    {
      "cell_type": "markdown",
      "source": [
        "**Esercizio 1**: A lezione avete visto come sia possibile utilizzare questi metodi anche per effettuare regressione polinomiale, ovvero dati una serie di punti trovare l'equazione nella forma \n",
        "\n",
        "$y_i = b + \\sum_{j=1}^k a_j x^j_i$\n",
        "\n",
        "Provate a considerare i dati che seguono e a ottenere la parabola migliore, procedendo come segue:\n",
        "\n",
        "1) cominciate risolvendo con la funzione polyfit; questo vi darà i coefficienti della vostra parabola\n",
        "\n",
        "2) provate a risolvere scrivendo l'equazione del gradiente e ponendola a 0\n",
        "\n",
        "3) sinceratevi che i due metodi ritornino lo stesso risultato, e visualizzate il polinomio ottenuto e i dati nello stesso grafico\n",
        "\n",
        "4) calcolare l'errore ai minimi quadrati della stima"
      ],
      "metadata": {
        "id": "F_YYNeuI3IuQ"
      }
    },
    {
      "cell_type": "code",
      "source": [
        "minuto =         np.array([ 0.0, 3.0, 6.0, 9.0, 21.0, 24.0, 27.0])[:,np.newaxis]\n",
        "distanza_in_km = np.array([ 0, 0.25, 1.0, 2.2, 10.1, 16, 21] )[:,np.newaxis]\n",
        "\n",
        "# SCRIVERE QUI SOTTO IL CODICE DELL'ESERCIZIO\n",
        "################\n",
        "# Usare la funzione polyfit\n",
        "parabola = ...\n",
        "\n",
        "# Creiamo le matrici X e y\n",
        "X = ...\n",
        "y = ...\n",
        "\n",
        "# Risolviamo per la formula del gradiente\n",
        "parabola_due = ...\n",
        "\n",
        "# Stampiamo \"True\" se i due metodi trovano gli stessi coefficienti\n",
        "print(...)\n",
        "\n",
        "# Valutiamo il nostro polinomio usando la forma matriciale\n",
        "y_stimate = ...\n",
        "\n",
        "# Visualizziamo dati e polinomio\n",
        "plt.scatter(minuto, ...,c='b')\n",
        "plt.scatter(minuto, ..., c='r')\n",
        "plt.legend(('dati','stima'))\n",
        "\n",
        "# Calcoliamo l'errore MSE\n",
        "errore = ...\n",
        "print(errore)"
      ],
      "metadata": {
        "id": "jz1hEmjicELy"
      },
      "execution_count": null,
      "outputs": []
    },
    {
      "cell_type": "markdown",
      "source": [
        "**Esercizio 2**: Provate a trovare i coefficienti per un polinomio bivariato (composto da due variabili) che riduca l'errore di ricostruzione rispetto a una semi-sfera. Ovvero, diciamo che vogliamo approssimarlo con un polinomio di grado $2$, l'equazione dovrà avere questa forma:\n",
        "\n",
        "$z =  \\alpha_1 x^2 + \\alpha_2 xy + \\alpha_3 y^2 + \\alpha_4 y + \\alpha_5 x + \\alpha_6$"
      ],
      "metadata": {
        "id": "Hnn-HN0PKsil"
      }
    },
    {
      "cell_type": "code",
      "source": [
        "# Funzione di supporto per creare una sfera\n",
        "def fibonacci_sphere(samples=1000):\n",
        "    points = []\n",
        "    phi = math.pi * (3. - math.sqrt(5.))  # golden angle in radians\n",
        "\n",
        "    for i in range(samples):\n",
        "        y = 1 - (i / float(samples - 1)) * 2  # y goes from 1 to -1\n",
        "        radius = math.sqrt(1 - y * y)  # radius at y\n",
        "\n",
        "        theta = phi * i  # golden angle increment\n",
        "\n",
        "        x = math.cos(theta) * radius\n",
        "        z = math.sin(theta) * radius\n",
        "\n",
        "        points.append((x, y, z))\n",
        "\n",
        "    return points\n",
        "\n",
        "points = fibonacci_sphere()\n",
        "points = np.asarray(points)\n",
        "\n",
        "# Seleziono solo la metà superiore della sfera\n",
        "x = points[:,0][points[:,2]>0]\n",
        "y = points[:,1][points[:,2]>0]\n",
        "z = points[:,2][points[:,2]>0]\n",
        "\n",
        "# Visualizzazione\n",
        "fig = plt.figure()\n",
        "ax = plt.axes(projection='3d')\n",
        "ax.scatter3D(x,y,z, s=0.5, color='b')"
      ],
      "metadata": {
        "id": "GorsDyUCGZLO"
      },
      "execution_count": null,
      "outputs": []
    },
    {
      "cell_type": "code",
      "source": [
        "### SCRIVI IL TUO CODICE DA QUI ###\n",
        "# Creiamo la matrice X (circa 4-5 righe di codice)\n",
        "...\n",
        "\n",
        "# L'asse z è la nostra variabile libera\n",
        "Y = ...\n",
        "\n",
        "# # Risolviamo per la formula del gradiente\n",
        "poly = ...\n",
        "\n",
        "# Calcoliamo le z stimate dal nostro polinomio\n",
        "z_stimate = ...\n",
        "\n",
        "# Visualizziamo il risultato\n",
        "fig = plt.figure()\n",
        "ax = plt.axes(projection='3d')\n",
        "\n",
        "ax.scatter3D(x,y,..., s=0.5, color='b')\n",
        "ax.scatter3D(x,y,..., s=0.5, color='r')"
      ],
      "metadata": {
        "id": "p5fsLiHDNKFu"
      },
      "execution_count": null,
      "outputs": []
    },
    {
      "cell_type": "markdown",
      "source": [
        "**Esercizio 3**: Provate a trovare i coefficienti per delle sinusoidi che riduca l'errore di ricostruzione di un terreno. Cerchiamo cioè una combinazione lineare del tipo: \n",
        "\n",
        "$ z = \\alpha_1 sin(x n2\\pi) + \\alpha_2 sin(y n2\\pi) + \\alpha_3 cos(x n2\\pi) + \\alpha_4 cos(y n2\\pi) $\n",
        "\n",
        "con $n$ variabile che modifica la frequenza di oscillazione."
      ],
      "metadata": {
        "id": "skY8ibKfL7l4"
      }
    },
    {
      "cell_type": "code",
      "source": [
        "# Carichiamo la point cloud da un file\n",
        "pcd = o3d.io.read_point_cloud('Mountain.ply')\n",
        "\n",
        "# Prendiamo solo un sottoinsieme dei punti per rendere\n",
        "# il calcolo meno oneroso\n",
        "\n",
        "coords = np.asarray(pcd.points)[0::100,:]\n",
        "coords = coords\n",
        "\n",
        "# Eliminiamo la \"basetta\" del modello 3D\n",
        "mask = coords[:,1] > 2\n",
        "x = coords[mask,0]; y = coords[mask,2]; z = coords[mask,1]\n",
        "\n",
        "# Visualizziamo il terreno\n",
        "fig = plt.figure()\n",
        "ax = plt.axes(projection='3d')\n",
        "ax.scatter3D(x,y,z, s=0.5, color='b')"
      ],
      "metadata": {
        "id": "_yME2JPPNq0Q"
      },
      "execution_count": null,
      "outputs": []
    },
    {
      "cell_type": "code",
      "source": [
        "### SCRIVI IL TUO CODICE DA QUI ###\n",
        "# Creiamo la matrice X (circa 5-6 righe di codice)\n",
        "# \n",
        "...\n",
        "\n",
        "# L'asse z è la nostra variabile libera\n",
        "Y = ...\n",
        "\n",
        "# # Risolviamo per la formula del gradiente\n",
        "poly = ...\n",
        "\n",
        "# Calcoliamo le z stimate dal nostro polinomio\n",
        "z_stimate = ...\n",
        "\n",
        "# Visualizzazione risultato\n",
        "fig = go.Figure(data=[\n",
        "                      go.Scatter3d(x=x, y=y, z=np.squeeze(z),\n",
        "                                   mode='markers'),\n",
        "                      go.Scatter3d(x=x, y=y, z=np.squeeze(z_stimate),\n",
        "                                   mode='markers')])\n",
        "fig.show()"
      ],
      "metadata": {
        "id": "lcnBeOW5Lb1T"
      },
      "execution_count": null,
      "outputs": []
    },
    {
      "cell_type": "markdown",
      "source": [
        "# Il gradiente\n",
        "\n",
        "Per farci un'idea migliore di cosa rappresenti il gradiente, facciamo un esempio visivo sulle immagini. Un'immagine non è altro che un piano 2D discreto, e i colori sono una funzione $f_{bw}: \\mathbb{R^2} \\rightarrow \\mathbb{R}$ se la funzione è in bianco e nero, e $f_{rgb}: \\mathbb{R^2} \\rightarrow \\mathbb{R^3}$ se la funzioneè a colori\n",
        "\n",
        ". Partiamo da un esempio semplice\n"
      ],
      "metadata": {
        "id": "y5mZ_bXHXRx_"
      }
    },
    {
      "cell_type": "code",
      "source": [
        "# Con Image.open possiamo leggere l'immagine da un file\n",
        "image = Image.open('radial_gradient_ellipse_angle45.png')\n",
        "\n",
        "image"
      ],
      "metadata": {
        "id": "1y7JgLNtaxdt"
      },
      "execution_count": null,
      "outputs": []
    },
    {
      "cell_type": "code",
      "source": [
        "# Possiamo facilmente convertirla in una matrice numpy\n",
        "pix = np.array(image) / np.max(np.array(image))\n",
        "\n",
        "print(pix.shape)\n",
        "print(pix)"
      ],
      "metadata": {
        "id": "nUJMSp75dFvR"
      },
      "execution_count": null,
      "outputs": []
    },
    {
      "cell_type": "markdown",
      "source": [
        "Notiamo che la sua rappresentazione è quella di una matrice. L'idea è che gli incroci di righe e colonne corrispondano a dei pixel, e in ognuno sia contenuto il valore della funzione in quel punto."
      ],
      "metadata": {
        "id": "cK2MdP7ejj-R"
      }
    },
    {
      "cell_type": "code",
      "source": [
        "# Numpy ci fornisce una funzione per calcolare il gradiente\n",
        "# ATTENZIONE: questa funzione prende in input una rappresentazione implicita. \n",
        "# Vuole dire che al contrario di funzioni come \"scatter\", in cui forniamo per ogni\n",
        "# \"x\" (dominio) un valore di \"y\" (immagine), qui forniamo solo i valori dell'immagine\n",
        "# e la disposizione di questi valori nel dominio è data dalla struttura della\n",
        "# matrice.\n",
        "print(pix)\n",
        "gx, gy = np.gradient(pix)\n",
        "norm = np.sqrt(gx**2 + gy**2) + 1e-10\n",
        "\n",
        "# Notiamo che ritorna altre due matrici, della stessa dimensione della iniziale \n",
        "print(gx)\n",
        "print(gx.shape)"
      ],
      "metadata": {
        "id": "5b8ibEHUdNL2"
      },
      "execution_count": null,
      "outputs": []
    },
    {
      "cell_type": "code",
      "source": [
        "# Visualizziamo il gradiente.\n",
        "\n",
        "# Creiamo una griglia equidistribuita tra 0 e 255, campionando ogni 20 pixel\n",
        "x,y = np.meshgrid(np.linspace(0,255,20),np.linspace(0,255,20),indexing='xy')\n",
        "\n",
        "# Dal nostro gradiente selezioniamo i campioni\n",
        "# NOTA: meshgrid crea vettori float a due dimensioni, \n",
        "#       quindi prima li convertiamo in \"int\" per renderli indici\n",
        "#       e poi usiamo \"flatten\" per renderli vettori unidimensionali\n",
        " \n",
        "g_x_sample = gx[[x.astype(np.int32).flatten()],[y.astype(np.int32).flatten()]]\n",
        "g_y_sample = gy[[x.astype(np.int32).flatten()],[y.astype(np.int32).flatten()]]\n",
        "\n",
        "print(x.shape)\n",
        "\n",
        "plt.imshow(pix, cmap='gray',origin='lower')\n",
        "plt.quiver(x,y,g_x_sample,g_y_sample)\n",
        "plt.show()"
      ],
      "metadata": {
        "id": "KPD7d3JzoU64"
      },
      "execution_count": null,
      "outputs": []
    },
    {
      "cell_type": "markdown",
      "source": [
        "**Esercizio 4**: Provate adesso a:\n",
        "\n",
        "1) implementare voi la funzione gradiente per una immagine 2D, senza usare una libreria apposita (Può essere relizzato in diversi modi: https://en.wikipedia.org/wiki/Finite_difference )\n",
        "\n",
        "2) applicarla a una immagine RGB sui tre diversi canali\n",
        "\n",
        "3) normalizzare i gradienti (siamo cioè interessati solo alla direzione delle frecce e non alla loro lunghezza)\n",
        "\n",
        "4) visualizzare i tre diversi gradienti "
      ],
      "metadata": {
        "id": "tkRyNlTOIkzO"
      }
    },
    {
      "cell_type": "code",
      "source": [
        "# Qui un esempio di immagine RGB\n",
        "image = Image.open('corner-gradient-4.png')\n",
        "\n",
        "# Le immagini possono avere codifiche diverse;\n",
        "# noi le tratteremo portandole a valori tra 0 e 1\n",
        "pix = np.array(image) / np.max(np.array(image))\n",
        "\n",
        "print(pix.shape)\n",
        "plt.imshow(pix,origin='lower')"
      ],
      "metadata": {
        "id": "VDafUwbZCU4R"
      },
      "execution_count": null,
      "outputs": []
    },
    {
      "cell_type": "code",
      "source": [
        "# SCRIVERE QUI SOTTO IL CODICE DELL'ESERCIZIO\n",
        "################\n",
        "\n",
        "# Definire una funzione per fare il gradiente discreto (circa una decina di righe)\n",
        "\n",
        "def gradiente(grid):\n",
        "  ...\n",
        "  return grad_x, grad_y\n",
        "\n",
        "# Applicarla come fatto prima alla nostra immagine per ognuno dei canali\n",
        "\n",
        "# == CANALE ROSSO ==\n",
        "# Normalizziamo i valori contenuti\n",
        "gx, gy = gradiente(...)\n",
        "\n",
        "# calcoliamo la norma (aggiungiamo un epsilon per evitare divisioni per 0)\n",
        "norm = ...\n",
        "\n",
        "# Normalizziamo\n",
        "gx = ...\n",
        "gy = ...\n",
        "\n",
        "# Concateniamo i due valori in una sola matrice. La prima codifica il canale Rosso\n",
        "R_grad = np.dstack((gx,gy))\n",
        "\n",
        "# == CANALE VERDE ==\n",
        "...\n",
        "\n",
        "# == CANALE BLU ==\n",
        "...\n",
        "\n",
        "\n",
        "\n",
        "# Visualizziamo i risultati\n",
        "..."
      ],
      "metadata": {
        "id": "PtFkl8TnY7gm"
      },
      "execution_count": null,
      "outputs": []
    },
    {
      "cell_type": "markdown",
      "source": [
        "**Esercizio 5**: data un'immagine in BW:\n",
        "\n",
        "1) calcola il gradiente\n",
        "\n",
        "2) calcola la norma del gradiente\n",
        "\n",
        "3) visualizza sul 2D l'immagine affianco alla norma per ogni pixel"
      ],
      "metadata": {
        "id": "mA6SwgSIZeZD"
      }
    },
    {
      "cell_type": "code",
      "source": [
        "# Qui un esempio di immagine\n",
        "image = Image.open('building.jpg')\n",
        "pix = (np.array(image) / np.max(np.array(image)))[:,:,1]\n",
        "print(pix.shape)\n",
        "\n",
        "# SVILUPPARE L'ESERCIZIO QUI SOTTO\n",
        "\n",
        "# Calcolo il gradiente\n",
        "gx, gy = ...\n",
        "\n",
        "# Calcolo la norma\n",
        "norm = ...\n",
        "\n",
        "# Visualizzo l'immagine e affianco la norma del gradiente\n",
        "...\n"
      ],
      "metadata": {
        "id": "pOSkA7rxZdt1"
      },
      "execution_count": null,
      "outputs": []
    }
  ]
}